{
  "nbformat": 4,
  "nbformat_minor": 0,
  "metadata": {
    "colab": {
      "provenance": []
    },
    "kernelspec": {
      "name": "python3",
      "display_name": "Python 3"
    },
    "language_info": {
      "name": "python"
    },
    "gpuClass": "standard"
  },
  "cells": [
    {
      "cell_type": "code",
      "execution_count": null,
      "metadata": {
        "colab": {
          "base_uri": "https://localhost:8080/"
        },
        "id": "8DoH5Ui6XUxX",
        "outputId": "bdcc8ecd-ac26-41f7-b7d9-c08035008251"
      },
      "outputs": [
        {
          "output_type": "stream",
          "name": "stdout",
          "text": [
            "Looking in indexes: https://pypi.org/simple, https://us-python.pkg.dev/colab-wheels/public/simple/\n",
            "Requirement already satisfied: jamo in /usr/local/lib/python3.9/dist-packages (0.4.1)\n"
          ]
        }
      ],
      "source": [
        "pip install jamo"
      ]
    },
    {
      "cell_type": "code",
      "source": [
        "import math\n",
        "import json\n",
        "import random\n",
        "from PIL import Image, ImageDraw, ImageFont\n",
        "import matplotlib.pyplot as plt\n",
        "from jamo import h2j, j2hcj\n",
        "from tqdm import tqdm\n",
        "from pprint import pprint"
      ],
      "metadata": {
        "id": "cts7fgtLXmLb"
      },
      "execution_count": null,
      "outputs": []
    },
    {
      "cell_type": "code",
      "source": [
        "#좌표 세팅\n",
        "\n",
        "kb = 'ㅣㆍㅡㄱㄴㄷㅂㅅㅈㅇ'\n",
        "\n",
        "coords = {\n",
        "    0: (0, 0),\n",
        "    1: (72, 0),\n",
        "    2: (144, 0),\n",
        "    3: (0, 33),\n",
        "    4: (72, 33),\n",
        "    5: (144, 33),\n",
        "    6: (0, 66),\n",
        "    7:(72,66),\n",
        "    8:(144,66),\n",
        "    9:(72,99)\n",
        "}\n",
        "\n",
        "print(len(kb))"
      ],
      "metadata": {
        "colab": {
          "base_uri": "https://localhost:8080/"
        },
        "id": "bU6vkvsVXwBn",
        "outputId": "eb64bc6b-d07a-4677-dd70-5b668d91997b"
      },
      "execution_count": null,
      "outputs": [
        {
          "output_type": "stream",
          "name": "stdout",
          "text": [
            "10\n"
          ]
        }
      ]
    },
    {
      "cell_type": "code",
      "source": [
        "#키 사이의 거리 계산\n",
        "\n",
        "def distance(first, second):\n",
        "    return math.hypot(second[0] - first[0], second[1] - first[1])\n",
        "\n",
        "# test\n",
        "print(distance(coords[0], coords[0]))\n",
        "print(distance(coords[0], coords[9]))"
      ],
      "metadata": {
        "colab": {
          "base_uri": "https://localhost:8080/"
        },
        "id": "maJGdKlrctAt",
        "outputId": "2562297a-a796-4aba-a03e-2136bfa651bc"
      },
      "execution_count": null,
      "outputs": [
        {
          "output_type": "stream",
          "name": "stdout",
          "text": [
            "0.0\n",
            "122.41323457861898\n"
          ]
        }
      ]
    },
    {
      "cell_type": "code",
      "source": [
        "keys_per_finger = [[0,1,2,3,4,5,6,7,8,9]]\n",
        "KEY_WIDTH = 216\n",
        "\n",
        "distances = {i: {} for i in range(10)}\n",
        "\n",
        "for keys in keys_per_finger:\n",
        "    for i in keys:\n",
        "        for j in keys:\n",
        "            distances[i][j] = distance(coords[i], coords[j]) / KEY_WIDTH\n",
        "\n",
        "distances"
      ],
      "metadata": {
        "colab": {
          "base_uri": "https://localhost:8080/"
        },
        "id": "DiYuSsH5macW",
        "outputId": "429ae20a-ff95-42d2-e34c-b1451d0c5048"
      },
      "execution_count": null,
      "outputs": [
        {
          "output_type": "execute_result",
          "data": {
            "text/plain": [
              "{0: {0: 0.0,\n",
              "  1: 0.3333333333333333,\n",
              "  2: 0.6666666666666666,\n",
              "  3: 0.1527777777777778,\n",
              "  4: 0.3666771884012246,\n",
              "  5: 0.6839484584580627,\n",
              "  6: 0.3055555555555556,\n",
              "  7: 0.45218946100276963,\n",
              "  8: 0.7333543768024492,\n",
              "  9: 0.5667279378639768},\n",
              " 1: {0: 0.3333333333333333,\n",
              "  1: 0.0,\n",
              "  2: 0.3333333333333333,\n",
              "  3: 0.3666771884012246,\n",
              "  4: 0.1527777777777778,\n",
              "  5: 0.3666771884012246,\n",
              "  6: 0.45218946100276963,\n",
              "  7: 0.3055555555555556,\n",
              "  8: 0.45218946100276963,\n",
              "  9: 0.4583333333333333},\n",
              " 2: {0: 0.6666666666666666,\n",
              "  1: 0.3333333333333333,\n",
              "  2: 0.0,\n",
              "  3: 0.6839484584580627,\n",
              "  4: 0.3666771884012246,\n",
              "  5: 0.1527777777777778,\n",
              "  6: 0.7333543768024492,\n",
              "  7: 0.45218946100276963,\n",
              "  8: 0.3055555555555556,\n",
              "  9: 0.5667279378639768},\n",
              " 3: {0: 0.1527777777777778,\n",
              "  1: 0.3666771884012246,\n",
              "  2: 0.6839484584580627,\n",
              "  3: 0.0,\n",
              "  4: 0.3333333333333333,\n",
              "  5: 0.6666666666666666,\n",
              "  6: 0.1527777777777778,\n",
              "  7: 0.3666771884012246,\n",
              "  8: 0.6839484584580627,\n",
              "  9: 0.45218946100276963},\n",
              " 4: {0: 0.3666771884012246,\n",
              "  1: 0.1527777777777778,\n",
              "  2: 0.3666771884012246,\n",
              "  3: 0.3333333333333333,\n",
              "  4: 0.0,\n",
              "  5: 0.3333333333333333,\n",
              "  6: 0.3666771884012246,\n",
              "  7: 0.1527777777777778,\n",
              "  8: 0.3666771884012246,\n",
              "  9: 0.3055555555555556},\n",
              " 5: {0: 0.6839484584580627,\n",
              "  1: 0.3666771884012246,\n",
              "  2: 0.1527777777777778,\n",
              "  3: 0.6666666666666666,\n",
              "  4: 0.3333333333333333,\n",
              "  5: 0.0,\n",
              "  6: 0.6839484584580627,\n",
              "  7: 0.3666771884012246,\n",
              "  8: 0.1527777777777778,\n",
              "  9: 0.45218946100276963},\n",
              " 6: {0: 0.3055555555555556,\n",
              "  1: 0.45218946100276963,\n",
              "  2: 0.7333543768024492,\n",
              "  3: 0.1527777777777778,\n",
              "  4: 0.3666771884012246,\n",
              "  5: 0.6839484584580627,\n",
              "  6: 0.0,\n",
              "  7: 0.3333333333333333,\n",
              "  8: 0.6666666666666666,\n",
              "  9: 0.3666771884012246},\n",
              " 7: {0: 0.45218946100276963,\n",
              "  1: 0.3055555555555556,\n",
              "  2: 0.45218946100276963,\n",
              "  3: 0.3666771884012246,\n",
              "  4: 0.1527777777777778,\n",
              "  5: 0.3666771884012246,\n",
              "  6: 0.3333333333333333,\n",
              "  7: 0.0,\n",
              "  8: 0.3333333333333333,\n",
              "  9: 0.1527777777777778},\n",
              " 8: {0: 0.7333543768024492,\n",
              "  1: 0.45218946100276963,\n",
              "  2: 0.3055555555555556,\n",
              "  3: 0.6839484584580627,\n",
              "  4: 0.3666771884012246,\n",
              "  5: 0.1527777777777778,\n",
              "  6: 0.6666666666666666,\n",
              "  7: 0.3333333333333333,\n",
              "  8: 0.0,\n",
              "  9: 0.3666771884012246},\n",
              " 9: {0: 0.5667279378639768,\n",
              "  1: 0.4583333333333333,\n",
              "  2: 0.5667279378639768,\n",
              "  3: 0.45218946100276963,\n",
              "  4: 0.3055555555555556,\n",
              "  5: 0.45218946100276963,\n",
              "  6: 0.3666771884012246,\n",
              "  7: 0.1527777777777778,\n",
              "  8: 0.3666771884012246,\n",
              "  9: 0.0}}"
            ]
          },
          "metadata": {},
          "execution_count": 5
        }
      ]
    },
    {
      "cell_type": "code",
      "source": [
        "# 손가락 초기 위치 설정\n",
        "\n",
        "home_key_pos = [4]\n",
        "\n",
        "home_keys = {}\n",
        "for i, keys in enumerate(keys_per_finger):\n",
        "    for key in keys:\n",
        "        home_keys[key] = home_key_pos[i]\n",
        "\n",
        "home_keys"
      ],
      "metadata": {
        "colab": {
          "base_uri": "https://localhost:8080/"
        },
        "id": "AjoY0yVud-zY",
        "outputId": "ca4c5a18-05be-4e2b-b6be-b6721cc02897"
      },
      "execution_count": null,
      "outputs": [
        {
          "output_type": "execute_result",
          "data": {
            "text/plain": [
              "{0: 4, 1: 4, 2: 4, 3: 4, 4: 4, 5: 4, 6: 4, 7: 4, 8: 4, 9: 4}"
            ]
          },
          "metadata": {},
          "execution_count": 6
        }
      ]
    },
    {
      "cell_type": "code",
      "source": [
        "kb = 'ㅣㆍㅡㄱㄴㄷㅂㅅㅈㅇ'\n",
        "\n",
        "def genome_to_keyboard(genome):\n",
        "    keyboard = {}\n",
        "    for i, char in enumerate(genome):\n",
        "        keyboard[char] = i\n",
        "        \n",
        "        if char == 'ㅂ':\n",
        "            keyboard['ㅃ'] = i\n",
        "        elif char == 'ㅈ':\n",
        "            keyboard['ㅉ'] = i\n",
        "        elif char == 'ㄷ':\n",
        "            keyboard['ㄸ'] = i\n",
        "        elif char == 'ㄱ':\n",
        "            keyboard['ㄲ'] = i\n",
        "        elif char == 'ㅅ':\n",
        "            keyboard['ㅆ'] = i\n",
        "        elif char == 'ㄱ':\n",
        "            keyboard['ㅋ'] = i\n",
        "        elif char == 'ㄴ':\n",
        "            keyboard['ㄹ'] = i\n",
        "        elif char == 'ㄷ':\n",
        "            keyboard['ㅌ'] = i\n",
        "        elif char == 'ㅂ':\n",
        "            keyboard['ㅍ'] = i \n",
        "        elif char == 'ㅅ':\n",
        "            keyboard['ㅎ'] = i \n",
        "        elif char == 'ㅈ':\n",
        "            keyboard['ㅊ'] = i \n",
        "        elif char == 'ㅇ':\n",
        "            keyboard['ㅁ'] = i \n",
        "    return keyboard\n",
        "\n",
        "genome_to_keyboard(kb)"
      ],
      "metadata": {
        "colab": {
          "base_uri": "https://localhost:8080/"
        },
        "id": "LQ1fKihJoLun",
        "outputId": "37d80c7c-e331-4377-a495-817edceed6ea"
      },
      "execution_count": null,
      "outputs": [
        {
          "output_type": "execute_result",
          "data": {
            "text/plain": [
              "{'ㅣ': 0,\n",
              " 'ㆍ': 1,\n",
              " 'ㅡ': 2,\n",
              " 'ㄱ': 3,\n",
              " 'ㄲ': 3,\n",
              " 'ㄴ': 4,\n",
              " 'ㄹ': 4,\n",
              " 'ㄷ': 5,\n",
              " 'ㄸ': 5,\n",
              " 'ㅂ': 6,\n",
              " 'ㅃ': 6,\n",
              " 'ㅅ': 7,\n",
              " 'ㅆ': 7,\n",
              " 'ㅈ': 8,\n",
              " 'ㅉ': 8,\n",
              " 'ㅇ': 9,\n",
              " 'ㅁ': 9}"
            ]
          },
          "metadata": {},
          "execution_count": 7
        }
      ]
    },
    {
      "cell_type": "code",
      "source": [
        "def split_double_jamo(word):\n",
        "    jamo = j2hcj(h2j(word))\n",
        "    dic = {\n",
        "        'ㅏ': 'ㅣㆍ','ㅓ': 'ㆍㅣ','ㅗ': 'ㆍㅡ','ㅜ': 'ㅡㆍ',\n",
        "        'ㅕ': 'ㆍㆍㅣ','ㅑ': 'ㅣㆍㆍ','ㅛ': 'ㆍㆍㅡ',\"ㅐ\":'ㅣㆍㅣ',\"ㅔ\":'ㆍㅣㅣ',\"ㅖ\":'ㆍㆍㅣㅣ',\n",
        "        \"ㅒ\":'ㅣㆍㆍㅣ',\n",
        "        'ㅘ': 'ㆍㅡㅣㆍ', 'ㅙ': 'ㆍㅡㅣㆍㅣ', 'ㅚ': 'ㆍㅡㅣ', 'ㅝ': 'ㅡㆍㆍㅣ',\n",
        "        'ㅞ': 'ㅡㆍㆍㅣㅣ', 'ㅟ': 'ㅡㆍㅣ', 'ㅢ': 'ㅡㅣ',\n",
        "        'ㄳ': 'ㄱㅅ', 'ㄵ': 'ㄴㅈ', 'ㄶ': 'ㄴㅎ', 'ㄺ': 'ㄹㄱ',\n",
        "        'ㄻ': 'ㄹㅁ', 'ㄼ': 'ㄹㅂ', 'ㄽ': 'ㄹㅅ', 'ㄾ': 'ㄹㅌ', \n",
        "        'ㄿ': 'ㄹㅍ', 'ㅀ': 'ㄹㅎ', 'ㅄ': 'ㅂㅅ'}\n",
        "\n",
        "    for i in jamo:\n",
        "        if i in dic.keys():\n",
        "            jamo = jamo.replace(i,dic[i])\n",
        "    return jamo\n",
        "\n",
        "split_double_jamo('값싼 원두')"
      ],
      "metadata": {
        "colab": {
          "base_uri": "https://localhost:8080/",
          "height": 35
        },
        "id": "K1fh-nhwruXX",
        "outputId": "59743bde-7147-4a53-f8ed-241f4625ce59"
      },
      "execution_count": null,
      "outputs": [
        {
          "output_type": "execute_result",
          "data": {
            "text/plain": [
              "'ㄱㅣㆍㅂㅅㅆㅣㆍㄴ ㅇㅡㆍㆍㅣㄴㄷㅡㆍ'"
            ],
            "application/vnd.google.colaboratory.intrinsic+json": {
              "type": "string"
            }
          },
          "metadata": {},
          "execution_count": 8
        }
      ]
    },
    {
      "cell_type": "code",
      "source": [
        "JSON_FILE_PATH = '/content/개인및관계.json'\n",
        "DATA_LIMIT = 10\n",
        "\n",
        "full_text = ''\n",
        "legal_chars = 'ㅣㆍㅡㄱㄲㄴㄹㄷㄸㅂㅃㅅㅆㅈㅉㅇㅁ'\n",
        "\n",
        "count = 0\n",
        "\n",
        "with open(JSON_FILE_PATH,'rt',encoding='UTF8') as f:\n",
        "    data = json.load(f)\n",
        "    \n",
        "    for d in tqdm(data['data']):\n",
        "        if len(full_text) > DATA_LIMIT:\n",
        "            break\n",
        "\n",
        "        for body in d['body']:\n",
        "            if body['utterance'].startswith('#@'): # 사진, 동영상 등 제거\n",
        "                continue\n",
        "\n",
        "            text = body['utterance'].replace('\\n', ' ').strip()\n",
        "            \n",
        "            jamo_text = split_double_jamo(text)\n",
        "            \n",
        "            if any(char not in legal_chars for char in jamo_text): # 숫자, 영어 제거\n",
        "                continue\n",
        "\n",
        "            full_text += ' ' + jamo_text\n",
        "            count += 1\n",
        "\n",
        "print(count)\n",
        "print(len(full_text))"
      ],
      "metadata": {
        "colab": {
          "base_uri": "https://localhost:8080/",
          "height": 248
        },
        "id": "2thKeNZtyX7O",
        "outputId": "9da15b19-dbea-43ed-d07e-4dd5933021a7"
      },
      "execution_count": null,
      "outputs": [
        {
          "output_type": "error",
          "ename": "NameError",
          "evalue": "ignored",
          "traceback": [
            "\u001b[0;31m---------------------------------------------------------------------------\u001b[0m",
            "\u001b[0;31mNameError\u001b[0m                                 Traceback (most recent call last)",
            "\u001b[0;32m<ipython-input-1-928ecce72e77>\u001b[0m in \u001b[0;36m<module>\u001b[0;34m\u001b[0m\n\u001b[1;32m      8\u001b[0m \u001b[0;34m\u001b[0m\u001b[0m\n\u001b[1;32m      9\u001b[0m \u001b[0;32mwith\u001b[0m \u001b[0mopen\u001b[0m\u001b[0;34m(\u001b[0m\u001b[0mJSON_FILE_PATH\u001b[0m\u001b[0;34m,\u001b[0m\u001b[0;34m'rt'\u001b[0m\u001b[0;34m,\u001b[0m\u001b[0mencoding\u001b[0m\u001b[0;34m=\u001b[0m\u001b[0;34m'UTF8'\u001b[0m\u001b[0;34m)\u001b[0m \u001b[0;32mas\u001b[0m \u001b[0mf\u001b[0m\u001b[0;34m:\u001b[0m\u001b[0;34m\u001b[0m\u001b[0;34m\u001b[0m\u001b[0m\n\u001b[0;32m---> 10\u001b[0;31m     \u001b[0mdata\u001b[0m \u001b[0;34m=\u001b[0m \u001b[0mjson\u001b[0m\u001b[0;34m.\u001b[0m\u001b[0mload\u001b[0m\u001b[0;34m(\u001b[0m\u001b[0mf\u001b[0m\u001b[0;34m)\u001b[0m\u001b[0;34m\u001b[0m\u001b[0;34m\u001b[0m\u001b[0m\n\u001b[0m\u001b[1;32m     11\u001b[0m \u001b[0;34m\u001b[0m\u001b[0m\n\u001b[1;32m     12\u001b[0m     \u001b[0;32mfor\u001b[0m \u001b[0md\u001b[0m \u001b[0;32min\u001b[0m \u001b[0mtqdm\u001b[0m\u001b[0;34m(\u001b[0m\u001b[0mdata\u001b[0m\u001b[0;34m[\u001b[0m\u001b[0;34m'data'\u001b[0m\u001b[0;34m]\u001b[0m\u001b[0;34m)\u001b[0m\u001b[0;34m:\u001b[0m\u001b[0;34m\u001b[0m\u001b[0;34m\u001b[0m\u001b[0m\n",
            "\u001b[0;31mNameError\u001b[0m: name 'json' is not defined"
          ]
        }
      ]
    }
  ]
}