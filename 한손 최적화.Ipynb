{
 "cells": [
  {
   "cell_type": "code",
   "execution_count": 1,
   "metadata": {},
   "outputs": [
    {
     "name": "stdout",
     "output_type": "stream",
     "text": [
      "Requirement already satisfied: jamo in c:\\users\\승별\\appdata\\local\\programs\\python\\python310\\lib\\site-packages (0.4.1)\n",
      "Requirement already satisfied: tqdm in c:\\users\\승별\\appdata\\local\\programs\\python\\python310\\lib\\site-packages (4.65.0)\n",
      "Requirement already satisfied: colorama in c:\\users\\승별\\appdata\\roaming\\python\\python310\\site-packages (from tqdm) (0.4.6)\n",
      "Requirement already satisfied: Pillow in c:\\users\\승별\\appdata\\local\\programs\\python\\python310\\lib\\site-packages (9.4.0)\n",
      "Requirement already satisfied: matplotlib in c:\\users\\승별\\appdata\\local\\programs\\python\\python310\\lib\\site-packages (3.7.1)\n",
      "Requirement already satisfied: contourpy>=1.0.1 in c:\\users\\승별\\appdata\\local\\programs\\python\\python310\\lib\\site-packages (from matplotlib) (1.0.7)\n",
      "Requirement already satisfied: packaging>=20.0 in c:\\users\\승별\\appdata\\roaming\\python\\python310\\site-packages (from matplotlib) (23.0)\n",
      "Requirement already satisfied: cycler>=0.10 in c:\\users\\승별\\appdata\\local\\programs\\python\\python310\\lib\\site-packages (from matplotlib) (0.11.0)\n",
      "Requirement already satisfied: pillow>=6.2.0 in c:\\users\\승별\\appdata\\local\\programs\\python\\python310\\lib\\site-packages (from matplotlib) (9.4.0)\n",
      "Requirement already satisfied: fonttools>=4.22.0 in c:\\users\\승별\\appdata\\local\\programs\\python\\python310\\lib\\site-packages (from matplotlib) (4.39.0)\n",
      "Requirement already satisfied: pyparsing>=2.3.1 in c:\\users\\승별\\appdata\\local\\programs\\python\\python310\\lib\\site-packages (from matplotlib) (3.0.9)\n",
      "Requirement already satisfied: kiwisolver>=1.0.1 in c:\\users\\승별\\appdata\\local\\programs\\python\\python310\\lib\\site-packages (from matplotlib) (1.4.4)\n",
      "Requirement already satisfied: python-dateutil>=2.7 in c:\\users\\승별\\appdata\\roaming\\python\\python310\\site-packages (from matplotlib) (2.8.2)\n",
      "Requirement already satisfied: numpy>=1.20 in c:\\users\\승별\\appdata\\local\\programs\\python\\python310\\lib\\site-packages (from matplotlib) (1.24.2)\n",
      "Requirement already satisfied: six>=1.5 in c:\\users\\승별\\appdata\\roaming\\python\\python310\\site-packages (from python-dateutil>=2.7->matplotlib) (1.16.0)\n"
     ]
    }
   ],
   "source": [
    "! pip install jamo\n",
    "! pip install tqdm\n",
    "! pip install Pillow\n",
    "! pip install matplotlib"
   ]
  },
  {
   "cell_type": "code",
   "execution_count": 2,
   "metadata": {},
   "outputs": [],
   "source": [
    "import math\n",
    "import json\n",
    "import random\n",
    "from PIL import Image, ImageDraw, ImageFont\n",
    "import matplotlib.pyplot as plt\n",
    "from jamo import h2j, j2hcj\n",
    "from tqdm import tqdm\n",
    "from pprint import pprint"
   ]
  },
  {
   "cell_type": "code",
   "execution_count": 3,
   "metadata": {},
   "outputs": [
    {
     "name": "stdout",
     "output_type": "stream",
     "text": [
      "10\n"
     ]
    }
   ],
   "source": [
    "#좌표 세팅\n",
    "\n",
    "kb = 'ㅣㆍㅡㄱㄴㄷㅂㅅㅈㅇ'\n",
    "\n",
    "coords = {\n",
    "    0: (0, 0),\n",
    "    1: (72, 0),\n",
    "    2: (144, 0),\n",
    "    3: (0, 33),\n",
    "    4: (72, 33),\n",
    "    5: (144, 33),\n",
    "    6: (0, 66),\n",
    "    7:(72,66),\n",
    "    8:(144,66),\n",
    "    9:(72,99)\n",
    "}\n",
    "\n",
    "print(len(kb))"
   ]
  },
  {
   "cell_type": "code",
   "execution_count": 4,
   "metadata": {},
   "outputs": [
    {
     "name": "stdout",
     "output_type": "stream",
     "text": [
      "0.0\n",
      "122.41323457861898\n"
     ]
    }
   ],
   "source": [
    "#키 사이의 거리 계산\n",
    "\n",
    "def distance(first, second):\n",
    "    return math.hypot(second[0] - first[0], second[1] - first[1])\n",
    "\n",
    "# test\n",
    "print(distance(coords[0], coords[0]))\n",
    "print(distance(coords[0], coords[9]))"
   ]
  },
  {
   "cell_type": "code",
   "execution_count": 5,
   "metadata": {},
   "outputs": [
    {
     "data": {
      "text/plain": [
       "{0: {0: 0.0,\n",
       "  1: 0.3333333333333333,\n",
       "  2: 0.6666666666666666,\n",
       "  3: 0.1527777777777778,\n",
       "  4: 0.3666771884012246,\n",
       "  5: 0.6839484584580627,\n",
       "  6: 0.3055555555555556,\n",
       "  7: 0.45218946100276963,\n",
       "  8: 0.7333543768024492,\n",
       "  9: 0.5667279378639768},\n",
       " 1: {0: 0.3333333333333333,\n",
       "  1: 0.0,\n",
       "  2: 0.3333333333333333,\n",
       "  3: 0.3666771884012246,\n",
       "  4: 0.1527777777777778,\n",
       "  5: 0.3666771884012246,\n",
       "  6: 0.45218946100276963,\n",
       "  7: 0.3055555555555556,\n",
       "  8: 0.45218946100276963,\n",
       "  9: 0.4583333333333333},\n",
       " 2: {0: 0.6666666666666666,\n",
       "  1: 0.3333333333333333,\n",
       "  2: 0.0,\n",
       "  3: 0.6839484584580627,\n",
       "  4: 0.3666771884012246,\n",
       "  5: 0.1527777777777778,\n",
       "  6: 0.7333543768024492,\n",
       "  7: 0.45218946100276963,\n",
       "  8: 0.3055555555555556,\n",
       "  9: 0.5667279378639768},\n",
       " 3: {0: 0.1527777777777778,\n",
       "  1: 0.3666771884012246,\n",
       "  2: 0.6839484584580627,\n",
       "  3: 0.0,\n",
       "  4: 0.3333333333333333,\n",
       "  5: 0.6666666666666666,\n",
       "  6: 0.1527777777777778,\n",
       "  7: 0.3666771884012246,\n",
       "  8: 0.6839484584580627,\n",
       "  9: 0.45218946100276963},\n",
       " 4: {0: 0.3666771884012246,\n",
       "  1: 0.1527777777777778,\n",
       "  2: 0.3666771884012246,\n",
       "  3: 0.3333333333333333,\n",
       "  4: 0.0,\n",
       "  5: 0.3333333333333333,\n",
       "  6: 0.3666771884012246,\n",
       "  7: 0.1527777777777778,\n",
       "  8: 0.3666771884012246,\n",
       "  9: 0.3055555555555556},\n",
       " 5: {0: 0.6839484584580627,\n",
       "  1: 0.3666771884012246,\n",
       "  2: 0.1527777777777778,\n",
       "  3: 0.6666666666666666,\n",
       "  4: 0.3333333333333333,\n",
       "  5: 0.0,\n",
       "  6: 0.6839484584580627,\n",
       "  7: 0.3666771884012246,\n",
       "  8: 0.1527777777777778,\n",
       "  9: 0.45218946100276963},\n",
       " 6: {0: 0.3055555555555556,\n",
       "  1: 0.45218946100276963,\n",
       "  2: 0.7333543768024492,\n",
       "  3: 0.1527777777777778,\n",
       "  4: 0.3666771884012246,\n",
       "  5: 0.6839484584580627,\n",
       "  6: 0.0,\n",
       "  7: 0.3333333333333333,\n",
       "  8: 0.6666666666666666,\n",
       "  9: 0.3666771884012246},\n",
       " 7: {0: 0.45218946100276963,\n",
       "  1: 0.3055555555555556,\n",
       "  2: 0.45218946100276963,\n",
       "  3: 0.3666771884012246,\n",
       "  4: 0.1527777777777778,\n",
       "  5: 0.3666771884012246,\n",
       "  6: 0.3333333333333333,\n",
       "  7: 0.0,\n",
       "  8: 0.3333333333333333,\n",
       "  9: 0.1527777777777778},\n",
       " 8: {0: 0.7333543768024492,\n",
       "  1: 0.45218946100276963,\n",
       "  2: 0.3055555555555556,\n",
       "  3: 0.6839484584580627,\n",
       "  4: 0.3666771884012246,\n",
       "  5: 0.1527777777777778,\n",
       "  6: 0.6666666666666666,\n",
       "  7: 0.3333333333333333,\n",
       "  8: 0.0,\n",
       "  9: 0.3666771884012246},\n",
       " 9: {0: 0.5667279378639768,\n",
       "  1: 0.4583333333333333,\n",
       "  2: 0.5667279378639768,\n",
       "  3: 0.45218946100276963,\n",
       "  4: 0.3055555555555556,\n",
       "  5: 0.45218946100276963,\n",
       "  6: 0.3666771884012246,\n",
       "  7: 0.1527777777777778,\n",
       "  8: 0.3666771884012246,\n",
       "  9: 0.0}}"
      ]
     },
     "execution_count": 5,
     "metadata": {},
     "output_type": "execute_result"
    }
   ],
   "source": [
    "keys_per_finger = [[0,1,2,3,4,5,6,7,8,9]]\n",
    "KEY_WIDTH = 216\n",
    "\n",
    "distances = {i: {} for i in range(10)}\n",
    "\n",
    "for keys in keys_per_finger:\n",
    "    for i in keys:\n",
    "        for j in keys:\n",
    "            distances[i][j] = distance(coords[i], coords[j]) / KEY_WIDTH\n",
    "\n",
    "distances"
   ]
  },
  {
   "cell_type": "code",
   "execution_count": 6,
   "metadata": {},
   "outputs": [
    {
     "data": {
      "text/plain": [
       "{0: 4, 1: 4, 2: 4, 3: 4, 4: 4, 5: 4, 6: 4, 7: 4, 8: 4, 9: 4}"
      ]
     },
     "execution_count": 6,
     "metadata": {},
     "output_type": "execute_result"
    }
   ],
   "source": [
    "# 손가락 초기 위치 설정\n",
    "\n",
    "home_key_pos = [4]\n",
    "\n",
    "home_keys = {}\n",
    "for i, keys in enumerate(keys_per_finger):\n",
    "    for key in keys:\n",
    "        home_keys[key] = home_key_pos[i]\n",
    "\n",
    "home_keys"
   ]
  },
  {
   "cell_type": "code",
   "execution_count": 7,
   "metadata": {},
   "outputs": [
    {
     "data": {
      "text/plain": [
       "{'ㅣ': 0,\n",
       " 'ㆍ': 1,\n",
       " 'ㅡ': 2,\n",
       " 'ㄱ': 3,\n",
       " 'ㄲ': 3,\n",
       " 'ㄴ': 4,\n",
       " 'ㄹ': 4,\n",
       " 'ㄷ': 5,\n",
       " 'ㄸ': 5,\n",
       " 'ㅂ': 6,\n",
       " 'ㅃ': 6,\n",
       " 'ㅅ': 7,\n",
       " 'ㅆ': 7,\n",
       " 'ㅈ': 8,\n",
       " 'ㅉ': 8,\n",
       " 'ㅇ': 9,\n",
       " 'ㅁ': 9}"
      ]
     },
     "execution_count": 7,
     "metadata": {},
     "output_type": "execute_result"
    }
   ],
   "source": [
    "kb = 'ㅣㆍㅡㄱㄴㄷㅂㅅㅈㅇ'\n",
    "\n",
    "def genome_to_keyboard(genome):\n",
    "    keyboard = {}\n",
    "    for i, char in enumerate(genome):\n",
    "        keyboard[char] = i\n",
    "        \n",
    "        if char == 'ㅂ':\n",
    "            keyboard['ㅃ'] = i\n",
    "        elif char == 'ㅈ':\n",
    "            keyboard['ㅉ'] = i\n",
    "        elif char == 'ㄷ':\n",
    "            keyboard['ㄸ'] = i\n",
    "        elif char == 'ㄱ':\n",
    "            keyboard['ㄲ'] = i\n",
    "        elif char == 'ㅅ':\n",
    "            keyboard['ㅆ'] = i\n",
    "        elif char == 'ㄱ':\n",
    "            keyboard['ㅋ'] = i\n",
    "        elif char == 'ㄴ':\n",
    "            keyboard['ㄹ'] = i\n",
    "        elif char == 'ㄷ':\n",
    "            keyboard['ㅌ'] = i\n",
    "        elif char == 'ㅂ':\n",
    "            keyboard['ㅍ'] = i \n",
    "        elif char == 'ㅅ':\n",
    "            keyboard['ㅎ'] = i \n",
    "        elif char == 'ㅈ':\n",
    "            keyboard['ㅊ'] = i \n",
    "        elif char == 'ㅇ':\n",
    "            keyboard['ㅁ'] = i \n",
    "    return keyboard\n",
    "\n",
    "genome_to_keyboard(kb)"
   ]
  },
  {
   "cell_type": "code",
   "execution_count": 8,
   "metadata": {},
   "outputs": [
    {
     "data": {
      "text/plain": [
       "'ㄱㆍㆍㅣㅣㅅㅣㆍㄴㅈㅡㆍㅇㅊㆍㅡㅣㄱㆍㅡ'"
      ]
     },
     "execution_count": 8,
     "metadata": {},
     "output_type": "execute_result"
    }
   ],
   "source": [
    "def split_double_jamo(word):\n",
    "    jamo = j2hcj(h2j(word))\n",
    "    dic = {\n",
    "        'ㅏ': 'ㅣㆍ','ㅓ': 'ㆍㅣ','ㅗ': 'ㆍㅡ','ㅜ': 'ㅡㆍ',\n",
    "        'ㅕ': 'ㆍㆍㅣ','ㅑ': 'ㅣㆍㆍ','ㅛ': 'ㆍㆍㅡ',\"ㅐ\":'ㅣㆍㅣ',\"ㅔ\":'ㆍㅣㅣ',\"ㅖ\":'ㆍㆍㅣㅣ',\n",
    "        \"ㅒ\":'ㅣㆍㆍㅣ',\n",
    "        'ㅘ': 'ㆍㅡㅣㆍ', 'ㅙ': 'ㆍㅡㅣㆍㅣ', 'ㅚ': 'ㆍㅡㅣ', 'ㅝ': 'ㅡㆍㆍㅣ',\n",
    "        'ㅞ': 'ㅡㆍㆍㅣㅣ', 'ㅟ': 'ㅡㆍㅣ', 'ㅢ': 'ㅡㅣ',\n",
    "        'ㄳ': 'ㄱㅅ', 'ㄵ': 'ㄴㅈ', 'ㄶ': 'ㄴㅎ', 'ㄺ': 'ㄹㄱ',\n",
    "        'ㄻ': 'ㄹㅁ', 'ㄼ': 'ㄹㅂ', 'ㄽ': 'ㄹㅅ', 'ㄾ': 'ㄹㅌ', \n",
    "        'ㄿ': 'ㄹㅍ', 'ㅀ': 'ㄹㅎ', 'ㅄ': 'ㅂㅅ'}\n",
    "\n",
    "    for i in jamo:\n",
    "        if i in dic.keys():\n",
    "            jamo = jamo.replace(i,dic[i])\n",
    "    return jamo\n",
    "\n",
    "split_double_jamo('계산중최고')"
   ]
  },
  {
   "cell_type": "code",
   "execution_count": 9,
   "metadata": {},
   "outputs": [
    {
     "name": "stderr",
     "output_type": "stream",
     "text": [
      "  1%|          | 3379/511496 [00:02<05:48, 1458.52it/s]"
     ]
    },
    {
     "name": "stdout",
     "output_type": "stream",
     "text": [
      "8548\n",
      "100004\n"
     ]
    },
    {
     "name": "stderr",
     "output_type": "stream",
     "text": [
      "\n"
     ]
    }
   ],
   "source": [
    "JSON_FILE_PATH = 'main.json'\n",
    "DATA_LIMIT = 100000\n",
    "\n",
    "full_text = ''\n",
    "legal_chars = 'ㅣㆍㅡㄱㄲㄴㄹㄷㄸㅂㅃㅅㅆㅈㅉㅇㅁ'\n",
    "\n",
    "count = 0\n",
    "\n",
    "with open(JSON_FILE_PATH,'rt',encoding='UTF8') as f:\n",
    "    data = json.load(f)\n",
    "    \n",
    "    for d in tqdm(data['data']):\n",
    "        if len(full_text) > DATA_LIMIT:\n",
    "            break\n",
    "\n",
    "        for body in d['body']:\n",
    "            if body['utterance'].startswith('#@'): # 사진, 동영상 등 제거\n",
    "                continue\n",
    "\n",
    "            text = body['utterance'].replace('\\n', ' ').strip()\n",
    "            \n",
    "            jamo_text = split_double_jamo(text)\n",
    "            \n",
    "            if any(char not in legal_chars for char in jamo_text): # 숫자, 영어 제거\n",
    "                continue\n",
    "\n",
    "            full_text += ' ' + jamo_text\n",
    "            count += 1\n",
    "\n",
    "print(count)\n",
    "print(len(full_text))"
   ]
  },
  {
   "cell_type": "code",
   "execution_count": 10,
   "metadata": {},
   "outputs": [
    {
     "data": {
      "text/plain": [
       "3.887733298807989"
      ]
     },
     "execution_count": 10,
     "metadata": {},
     "output_type": "execute_result"
    }
   ],
   "source": [
    "def total_distance(input_string, keyboard):\n",
    "    input_string = split_double_jamo(input_string.strip())\n",
    "    input_string = input_string.replace(' ', '')\n",
    "\n",
    "    first_char = input_string[0]\n",
    "    first_pos = keyboard[first_char]\n",
    "    first_home_key = home_keys[first_pos]\n",
    "    total_dist = distances[first_home_key][first_pos]\n",
    "\n",
    "    for i in range(0, len(input_string)-1):\n",
    "        cur_char = input_string[i]\n",
    "        next_char = input_string[i+1]\n",
    "        cur_pos = keyboard[cur_char]\n",
    "        next_pos = keyboard[next_char]\n",
    "\n",
    "        if cur_pos in distances and next_pos in distances[cur_pos]:\n",
    "            total_dist += distances[cur_pos][next_pos]\n",
    "        else:\n",
    "            home_key = home_keys[next_pos]\n",
    "            total_dist += distances[home_key][next_pos]\n",
    "\n",
    "    return total_dist\n",
    "\n",
    "# test\n",
    "total_distance('계산중', genome_to_keyboard(kb))"
   ]
  },
  {
   "cell_type": "code",
   "execution_count": 11,
   "metadata": {},
   "outputs": [
    {
     "data": {
      "text/plain": [
       "[['ㅂ', 'ㆍ', 'ㅇ', 'ㅡ', 'ㅈ', 'ㅅ', 'ㅣ', 'ㄴ', 'ㄷ', 'ㄱ'],\n",
       " ['ㅈ', 'ㅣ', 'ㅡ', 'ㅂ', 'ㅇ', 'ㅅ', 'ㄱ', 'ㄷ', 'ㆍ', 'ㄴ']]"
      ]
     },
     "execution_count": 11,
     "metadata": {},
     "output_type": "execute_result"
    }
   ],
   "source": [
    "def init_population(pop_size):\n",
    "    keyboard_chars = list('ㅣㆍㅡㄱㄴㄷㅂㅅㅈㅇ')\n",
    "    population = []\n",
    "    for i in range(pop_size):\n",
    "        rand_gnome = keyboard_chars[:]\n",
    "        random.shuffle(rand_gnome)\n",
    "        population.append(rand_gnome)\n",
    "    return population\n",
    "\n",
    "test_genomes = init_population(2)\n",
    "\n",
    "test_genomes"
   ]
  },
  {
   "cell_type": "code",
   "execution_count": 12,
   "metadata": {},
   "outputs": [
    {
     "data": {
      "text/plain": [
       "['ㅂ', 'ㆍ', 'ㅇ', 'ㅡ', 'ㅅ', 'ㅈ', 'ㅣ', 'ㄴ', 'ㄷ', 'ㄱ']"
      ]
     },
     "execution_count": 12,
     "metadata": {},
     "output_type": "execute_result"
    }
   ],
   "source": [
    "def mate(board1, board2, mutation_rate):\n",
    "    keyboard_size = len(board1)\n",
    "    idx = random.randint(0, keyboard_size-1)\n",
    "    length = random.randint(0, keyboard_size-1)\n",
    "    child = ['_' for i in range(keyboard_size)]\n",
    "\n",
    "    for i in range(length):\n",
    "        if idx > keyboard_size-1:\n",
    "            idx = 0\n",
    "        child[idx] = board1[idx]\n",
    "        idx += 1\n",
    "\n",
    "    child_idx = idx\n",
    "\n",
    "    while '_' in child:\n",
    "        if idx > keyboard_size-1:\n",
    "            idx = 0\n",
    "        if child_idx > keyboard_size-1:\n",
    "            child_idx = 0\n",
    "        char = board2[idx]\n",
    "        if char in child:\n",
    "            idx += 1\n",
    "            continue\n",
    "        child[child_idx] = board2[idx]\n",
    "        child_idx += 1\n",
    "        idx += 1\n",
    "        \n",
    "    prob = random.random()\n",
    "\n",
    "    if prob < mutation_rate:\n",
    "        point1 = random.randint(0, 9)\n",
    "        point2 = random.randint(0, 9)\n",
    "        allele1 = child[point1]\n",
    "        allele2 = child[point2]\n",
    "        child[point1] = allele2\n",
    "        child[point2] = allele1\n",
    "        \n",
    "    return child\n",
    "\n",
    "mate(test_genomes[0], test_genomes[1], 0.1)"
   ]
  },
  {
   "cell_type": "code",
   "execution_count": 13,
   "metadata": {},
   "outputs": [
    {
     "data": {
      "text/plain": [
       "({0: 37292.97155170763, 1: 33634.80162998294}, [1, 0])"
      ]
     },
     "execution_count": 13,
     "metadata": {},
     "output_type": "execute_result"
    }
   ],
   "source": [
    "def get_evals(population):\n",
    "    evals = {}\n",
    "\n",
    "    for i, genome in enumerate(population):\n",
    "        keyboard = genome_to_keyboard(genome)\n",
    "        dist = total_distance(full_text, keyboard)\n",
    "        evals[i] = dist\n",
    "\n",
    "    sorted_evals = [k for k, v in sorted(evals.items(), key=lambda item: item[1])]\n",
    "\n",
    "    return evals, sorted_evals\n",
    "\n",
    "get_evals(test_genomes)"
   ]
  },
  {
   "cell_type": "code",
   "execution_count": 14,
   "metadata": {},
   "outputs": [
    {
     "data": {
      "text/plain": [
       "[['ㅈ', 'ㅣ', 'ㅡ', 'ㅂ', 'ㅇ', 'ㅅ', 'ㄱ', 'ㄷ', 'ㆍ', 'ㄴ'],\n",
       " ['ㆍ', 'ㅡ', 'ㅈ', 'ㅂ', 'ㅇ', 'ㅅ', 'ㅣ', 'ㄴ', 'ㄷ', 'ㄱ'],\n",
       " ['ㅈ', 'ㅣ', 'ㅡ', 'ㅂ', 'ㅇ', 'ㅅ', 'ㄱ', 'ㄷ', 'ㆍ', 'ㄴ'],\n",
       " ['ㅂ', 'ㅡ', 'ㅇ', 'ㆍ', 'ㅈ', 'ㅅ', 'ㅣ', 'ㄴ', 'ㄷ', 'ㄱ'],\n",
       " ['ㅈ', 'ㅣ', 'ㅂ', 'ㅡ', 'ㅇ', 'ㅅ', 'ㄱ', 'ㄷ', 'ㆍ', 'ㄴ'],\n",
       " ['ㄱ', 'ㆍ', 'ㅇ', 'ㅡ', 'ㅈ', 'ㅅ', 'ㅣ', 'ㄷ', 'ㄴ', 'ㅂ'],\n",
       " ['ㆍ', 'ㅂ', 'ㅇ', 'ㅡ', 'ㅈ', 'ㅅ', 'ㅣ', 'ㄴ', 'ㄷ', 'ㄱ'],\n",
       " ['ㅂ', 'ㆍ', 'ㅇ', 'ㅡ', 'ㅈ', 'ㅅ', 'ㅣ', 'ㄴ', 'ㄷ', 'ㄱ'],\n",
       " ['ㅂ', 'ㆍ', 'ㅇ', 'ㅡ', 'ㅈ', 'ㅅ', 'ㅣ', 'ㄴ', 'ㄷ', 'ㄱ'],\n",
       " ['ㅈ', 'ㅅ', 'ㅡ', 'ㅂ', 'ㅇ', 'ㅣ', 'ㄱ', 'ㄷ', 'ㆍ', 'ㄴ']]"
      ]
     },
     "execution_count": 14,
     "metadata": {},
     "output_type": "execute_result"
    }
   ],
   "source": [
    "def new_generation(population, sorted_evals, p_size, mutation_rate):\n",
    "    new_gen = []\n",
    "    sorted_population = []\n",
    "\n",
    "    for i in sorted_evals:\n",
    "        sorted_population.append(population[i])\n",
    "        \n",
    "    for i in range(int(p_size*0.1)):\n",
    "        new_gen.append(sorted_population[i])\n",
    "\n",
    "    for _ in range(int(p_size*0.9)):\n",
    "        p1 = random.choice(sorted_population[:int(p_size*0.5)])\n",
    "        p2 = random.choice(sorted_population[:int(p_size*0.5)])\n",
    "        child = mate(p1, p2, mutation_rate)\n",
    "        new_gen.append(child)\n",
    "    \n",
    "    return new_gen\n",
    "\n",
    "new_generation(test_genomes, sorted_evals=[1, 0], p_size=10, mutation_rate=0.1)"
   ]
  },
  {
   "cell_type": "code",
   "execution_count": 15,
   "metadata": {},
   "outputs": [
    {
     "name": "stdout",
     "output_type": "stream",
     "text": [
      "GEN: 1, AVG: 35190.52971066946, MIN: 26107.784972416706, BEST: ['ㄷ', 'ㅇ', 'ㅂ', 'ㄴ', 'ㅣ', 'ㅡ', 'ㅈ', 'ㆍ', 'ㄱ', 'ㅅ']\n",
      "GEN: 2, AVG: 33017.459583294454, MIN: 26107.784972416706, BEST: ['ㄷ', 'ㅇ', 'ㅂ', 'ㄴ', 'ㅣ', 'ㅡ', 'ㅈ', 'ㆍ', 'ㄱ', 'ㅅ']\n",
      "GEN: 3, AVG: 31931.699863926497, MIN: 25870.376925790322, BEST: ['ㄷ', 'ㅇ', 'ㄴ', 'ㅂ', 'ㅣ', 'ㄱ', 'ㅈ', 'ㆍ', 'ㅡ', 'ㅅ']\n",
      "GEN: 4, AVG: 31164.655300838924, MIN: 25483.57176127254, BEST: ['ㅂ', 'ㅣ', 'ㅈ', 'ㄴ', 'ㆍ', 'ㄱ', 'ㄷ', 'ㅇ', 'ㅅ', 'ㅡ']\n",
      "GEN: 5, AVG: 30641.798966868915, MIN: 25166.98125652129, BEST: ['ㄷ', 'ㅇ', 'ㅂ', 'ㄴ', 'ㅣ', 'ㄱ', 'ㅈ', 'ㆍ', 'ㅅ', 'ㅡ']\n",
      "GEN: 6, AVG: 29933.24095150112, MIN: 25066.35084142217, BEST: ['ㅅ', 'ㄴ', 'ㅈ', 'ㄷ', 'ㅣ', 'ㅡ', 'ㅂ', 'ㆍ', 'ㄱ', 'ㅇ']\n",
      "GEN: 7, AVG: 29113.686099668685, MIN: 24906.775045310063, BEST: ['ㅅ', 'ㄴ', 'ㄷ', 'ㅂ', 'ㅣ', 'ㄱ', 'ㅈ', 'ㆍ', 'ㅡ', 'ㅇ']\n",
      "GEN: 8, AVG: 29045.270395770247, MIN: 24906.775045310063, BEST: ['ㅅ', 'ㄴ', 'ㄷ', 'ㅂ', 'ㅣ', 'ㄱ', 'ㅈ', 'ㆍ', 'ㅡ', 'ㅇ']\n",
      "GEN: 9, AVG: 28276.199081746323, MIN: 24906.775045310063, BEST: ['ㅅ', 'ㄴ', 'ㄷ', 'ㅂ', 'ㅣ', 'ㄱ', 'ㅈ', 'ㆍ', 'ㅡ', 'ㅇ']\n",
      "GEN: 10, AVG: 28003.365619804757, MIN: 24906.775045310063, BEST: ['ㅅ', 'ㄴ', 'ㄷ', 'ㅂ', 'ㅣ', 'ㄱ', 'ㅈ', 'ㆍ', 'ㅡ', 'ㅇ']\n",
      "GEN: 11, AVG: 27809.797567791677, MIN: 24906.775045310063, BEST: ['ㅅ', 'ㄴ', 'ㄷ', 'ㅂ', 'ㅣ', 'ㄱ', 'ㅈ', 'ㆍ', 'ㅡ', 'ㅇ']\n",
      "GEN: 12, AVG: 27741.272889171916, MIN: 24906.775045310063, BEST: ['ㅅ', 'ㄴ', 'ㄷ', 'ㅂ', 'ㅣ', 'ㄱ', 'ㅈ', 'ㆍ', 'ㅡ', 'ㅇ']\n",
      "GEN: 13, AVG: 27119.298795845323, MIN: 24906.775045310063, BEST: ['ㅅ', 'ㄴ', 'ㄷ', 'ㅂ', 'ㅣ', 'ㄱ', 'ㅈ', 'ㆍ', 'ㅡ', 'ㅇ']\n",
      "GEN: 14, AVG: 27859.103215123992, MIN: 24906.775045310063, BEST: ['ㅅ', 'ㄴ', 'ㄷ', 'ㅂ', 'ㅣ', 'ㄱ', 'ㅈ', 'ㆍ', 'ㅡ', 'ㅇ']\n",
      "GEN: 15, AVG: 26473.49410270397, MIN: 24882.47298929784, BEST: ['ㅅ', 'ㄴ', 'ㄷ', 'ㅈ', 'ㅣ', 'ㄱ', 'ㅂ', 'ㆍ', 'ㅡ', 'ㅇ']\n",
      "GEN: 16, AVG: 25039.369663438858, MIN: 24882.47298929784, BEST: ['ㅅ', 'ㄴ', 'ㄷ', 'ㅈ', 'ㅣ', 'ㄱ', 'ㅂ', 'ㆍ', 'ㅡ', 'ㅇ']\n",
      "GEN: 17, AVG: 25428.630613206886, MIN: 24810.568060117752, BEST: ['ㅂ', 'ㄴ', 'ㄷ', 'ㅅ', 'ㅣ', 'ㄱ', 'ㅈ', 'ㆍ', 'ㅡ', 'ㅇ']\n",
      "GEN: 18, AVG: 25365.506281016194, MIN: 24810.568060117752, BEST: ['ㅂ', 'ㄴ', 'ㄷ', 'ㅅ', 'ㅣ', 'ㄱ', 'ㅈ', 'ㆍ', 'ㅡ', 'ㅇ']\n",
      "GEN: 19, AVG: 26249.997834714002, MIN: 24810.568060117752, BEST: ['ㅂ', 'ㄴ', 'ㄷ', 'ㅅ', 'ㅣ', 'ㄱ', 'ㅈ', 'ㆍ', 'ㅡ', 'ㅇ']\n",
      "GEN: 20, AVG: 26660.443852355973, MIN: 24810.568060117752, BEST: ['ㅂ', 'ㄴ', 'ㄷ', 'ㅅ', 'ㅣ', 'ㄱ', 'ㅈ', 'ㆍ', 'ㅡ', 'ㅇ']\n",
      "GEN: 21, AVG: 26561.029349431315, MIN: 24802.437925040816, BEST: ['ㅂ', 'ㄴ', 'ㄷ', 'ㅈ', 'ㅣ', 'ㄱ', 'ㅅ', 'ㆍ', 'ㅡ', 'ㅇ']\n",
      "GEN: 22, AVG: 26832.272978079338, MIN: 24802.437925040816, BEST: ['ㅂ', 'ㄴ', 'ㄷ', 'ㅈ', 'ㅣ', 'ㄱ', 'ㅅ', 'ㆍ', 'ㅡ', 'ㅇ']\n",
      "GEN: 23, AVG: 26196.24573256576, MIN: 24802.437925040816, BEST: ['ㅂ', 'ㄴ', 'ㄷ', 'ㅈ', 'ㅣ', 'ㄱ', 'ㅅ', 'ㆍ', 'ㅡ', 'ㅇ']\n",
      "GEN: 24, AVG: 25207.863963001524, MIN: 24802.437925040816, BEST: ['ㅂ', 'ㄴ', 'ㄷ', 'ㅈ', 'ㅣ', 'ㄱ', 'ㅅ', 'ㆍ', 'ㅡ', 'ㅇ']\n",
      "GEN: 25, AVG: 25923.151573059928, MIN: 24802.437925040816, BEST: ['ㅂ', 'ㄴ', 'ㄷ', 'ㅈ', 'ㅣ', 'ㄱ', 'ㅅ', 'ㆍ', 'ㅡ', 'ㅇ']\n",
      "GEN: 26, AVG: 25887.40990899276, MIN: 24802.437925040816, BEST: ['ㅂ', 'ㄴ', 'ㄷ', 'ㅈ', 'ㅣ', 'ㄱ', 'ㅅ', 'ㆍ', 'ㅡ', 'ㅇ']\n",
      "GEN: 27, AVG: 26186.869333224557, MIN: 24802.437925040816, BEST: ['ㅂ', 'ㄴ', 'ㄷ', 'ㅈ', 'ㅣ', 'ㄱ', 'ㅅ', 'ㆍ', 'ㅡ', 'ㅇ']\n",
      "GEN: 28, AVG: 25246.376065062374, MIN: 24802.437925040816, BEST: ['ㅂ', 'ㄴ', 'ㄷ', 'ㅈ', 'ㅣ', 'ㄱ', 'ㅅ', 'ㆍ', 'ㅡ', 'ㅇ']\n",
      "GEN: 29, AVG: 25084.180797474444, MIN: 24802.437925040816, BEST: ['ㅂ', 'ㄴ', 'ㄷ', 'ㅈ', 'ㅣ', 'ㄱ', 'ㅅ', 'ㆍ', 'ㅡ', 'ㅇ']\n",
      "GEN: 30, AVG: 25040.561724675525, MIN: 24802.437925040816, BEST: ['ㅂ', 'ㄴ', 'ㄷ', 'ㅈ', 'ㅣ', 'ㄱ', 'ㅅ', 'ㆍ', 'ㅡ', 'ㅇ']\n",
      "GEN: 31, AVG: 24849.56842178262, MIN: 24781.91381859942, BEST: ['ㅂ', 'ㄴ', 'ㅈ', 'ㄷ', 'ㅣ', 'ㄱ', 'ㅅ', 'ㆍ', 'ㅡ', 'ㅇ']\n",
      "GEN: 32, AVG: 25139.65992241433, MIN: 24781.91381859942, BEST: ['ㅂ', 'ㄴ', 'ㅈ', 'ㄷ', 'ㅣ', 'ㄱ', 'ㅅ', 'ㆍ', 'ㅡ', 'ㅇ']\n",
      "GEN: 33, AVG: 25012.75142388841, MIN: 24781.91381859942, BEST: ['ㅂ', 'ㄴ', 'ㅈ', 'ㄷ', 'ㅣ', 'ㄱ', 'ㅅ', 'ㆍ', 'ㅡ', 'ㅇ']\n",
      "GEN: 34, AVG: 25125.99536453763, MIN: 24781.91381859942, BEST: ['ㅂ', 'ㄴ', 'ㅈ', 'ㄷ', 'ㅣ', 'ㄱ', 'ㅅ', 'ㆍ', 'ㅡ', 'ㅇ']\n",
      "GEN: 35, AVG: 25297.99265503151, MIN: 24781.91381859942, BEST: ['ㅂ', 'ㄴ', 'ㅈ', 'ㄷ', 'ㅣ', 'ㄱ', 'ㅅ', 'ㆍ', 'ㅡ', 'ㅇ']\n",
      "GEN: 36, AVG: 25570.124050053124, MIN: 24781.91381859942, BEST: ['ㅂ', 'ㄴ', 'ㅈ', 'ㄷ', 'ㅣ', 'ㄱ', 'ㅅ', 'ㆍ', 'ㅡ', 'ㅇ']\n",
      "GEN: 37, AVG: 24982.435092257438, MIN: 24781.91381859942, BEST: ['ㅂ', 'ㄴ', 'ㅈ', 'ㄷ', 'ㅣ', 'ㄱ', 'ㅅ', 'ㆍ', 'ㅡ', 'ㅇ']\n",
      "GEN: 38, AVG: 25185.073001759964, MIN: 24781.91381859942, BEST: ['ㅂ', 'ㄴ', 'ㅈ', 'ㄷ', 'ㅣ', 'ㄱ', 'ㅅ', 'ㆍ', 'ㅡ', 'ㅇ']\n",
      "GEN: 39, AVG: 24956.705580682887, MIN: 24781.91381859942, BEST: ['ㅂ', 'ㄴ', 'ㅈ', 'ㄷ', 'ㅣ', 'ㄱ', 'ㅅ', 'ㆍ', 'ㅡ', 'ㅇ']\n",
      "GEN: 40, AVG: 24865.060524789904, MIN: 24781.91381859942, BEST: ['ㅂ', 'ㄴ', 'ㅈ', 'ㄷ', 'ㅣ', 'ㄱ', 'ㅅ', 'ㆍ', 'ㅡ', 'ㅇ']\n",
      "GEN: 41, AVG: 25014.67635076708, MIN: 24781.91381859942, BEST: ['ㅂ', 'ㄴ', 'ㅈ', 'ㄷ', 'ㅣ', 'ㄱ', 'ㅅ', 'ㆍ', 'ㅡ', 'ㅇ']\n",
      "GEN: 42, AVG: 24899.37098043913, MIN: 24781.91381859942, BEST: ['ㅂ', 'ㄴ', 'ㅈ', 'ㄷ', 'ㅣ', 'ㄱ', 'ㅅ', 'ㆍ', 'ㅡ', 'ㅇ']\n",
      "GEN: 43, AVG: 24975.325418648106, MIN: 24781.91381859942, BEST: ['ㅂ', 'ㄴ', 'ㅈ', 'ㄷ', 'ㅣ', 'ㄱ', 'ㅅ', 'ㆍ', 'ㅡ', 'ㅇ']\n",
      "GEN: 44, AVG: 24928.563648535055, MIN: 24781.91381859942, BEST: ['ㅂ', 'ㄴ', 'ㅈ', 'ㄷ', 'ㅣ', 'ㄱ', 'ㅅ', 'ㆍ', 'ㅡ', 'ㅇ']\n",
      "GEN: 45, AVG: 25132.647339479063, MIN: 24781.91381859942, BEST: ['ㅂ', 'ㄴ', 'ㅈ', 'ㄷ', 'ㅣ', 'ㄱ', 'ㅅ', 'ㆍ', 'ㅡ', 'ㅇ']\n",
      "GEN: 46, AVG: 24801.529593606392, MIN: 24781.91381859942, BEST: ['ㅂ', 'ㄴ', 'ㅈ', 'ㄷ', 'ㅣ', 'ㄱ', 'ㅅ', 'ㆍ', 'ㅡ', 'ㅇ']\n",
      "GEN: 47, AVG: 25021.660833763824, MIN: 24781.91381859942, BEST: ['ㅂ', 'ㄴ', 'ㅈ', 'ㄷ', 'ㅣ', 'ㄱ', 'ㅅ', 'ㆍ', 'ㅡ', 'ㅇ']\n",
      "GEN: 48, AVG: 24904.69388131102, MIN: 24781.91381859942, BEST: ['ㅂ', 'ㄴ', 'ㅈ', 'ㄷ', 'ㅣ', 'ㄱ', 'ㅅ', 'ㆍ', 'ㅡ', 'ㅇ']\n",
      "GEN: 49, AVG: 24906.506360059804, MIN: 24781.91381859942, BEST: ['ㅂ', 'ㄴ', 'ㅈ', 'ㄷ', 'ㅣ', 'ㄱ', 'ㅅ', 'ㆍ', 'ㅡ', 'ㅇ']\n",
      "GEN: 50, AVG: 24914.963231676342, MIN: 24781.91381859942, BEST: ['ㅂ', 'ㄴ', 'ㅈ', 'ㄷ', 'ㅣ', 'ㄱ', 'ㅅ', 'ㆍ', 'ㅡ', 'ㅇ']\n",
      "GEN: 51, AVG: 25003.665783841097, MIN: 24781.91381859942, BEST: ['ㅂ', 'ㄴ', 'ㅈ', 'ㄷ', 'ㅣ', 'ㄱ', 'ㅅ', 'ㆍ', 'ㅡ', 'ㅇ']\n",
      "GEN: 52, AVG: 24832.682405322586, MIN: 24781.91381859942, BEST: ['ㅂ', 'ㄴ', 'ㅈ', 'ㄷ', 'ㅣ', 'ㄱ', 'ㅅ', 'ㆍ', 'ㅡ', 'ㅇ']\n",
      "GEN: 53, AVG: 25014.426281622083, MIN: 24781.91381859942, BEST: ['ㅂ', 'ㄴ', 'ㅈ', 'ㄷ', 'ㅣ', 'ㄱ', 'ㅅ', 'ㆍ', 'ㅡ', 'ㅇ']\n",
      "GEN: 54, AVG: 25289.062856359506, MIN: 24781.91381859942, BEST: ['ㅂ', 'ㄴ', 'ㅈ', 'ㄷ', 'ㅣ', 'ㄱ', 'ㅅ', 'ㆍ', 'ㅡ', 'ㅇ']\n",
      "GEN: 55, AVG: 24960.504484274727, MIN: 24781.91381859942, BEST: ['ㅂ', 'ㄴ', 'ㅈ', 'ㄷ', 'ㅣ', 'ㄱ', 'ㅅ', 'ㆍ', 'ㅡ', 'ㅇ']\n",
      "GEN: 56, AVG: 24883.505459550204, MIN: 24781.91381859942, BEST: ['ㅂ', 'ㄴ', 'ㅈ', 'ㄷ', 'ㅣ', 'ㄱ', 'ㅅ', 'ㆍ', 'ㅡ', 'ㅇ']\n",
      "GEN: 57, AVG: 25066.53860957901, MIN: 24781.91381859942, BEST: ['ㅂ', 'ㄴ', 'ㅈ', 'ㄷ', 'ㅣ', 'ㄱ', 'ㅅ', 'ㆍ', 'ㅡ', 'ㅇ']\n",
      "GEN: 58, AVG: 25016.806962892417, MIN: 24781.91381859942, BEST: ['ㅂ', 'ㄴ', 'ㅈ', 'ㄷ', 'ㅣ', 'ㄱ', 'ㅅ', 'ㆍ', 'ㅡ', 'ㅇ']\n",
      "GEN: 59, AVG: 24866.252344910325, MIN: 24781.91381859942, BEST: ['ㅂ', 'ㄴ', 'ㅈ', 'ㄷ', 'ㅣ', 'ㄱ', 'ㅅ', 'ㆍ', 'ㅡ', 'ㅇ']\n",
      "GEN: 60, AVG: 25344.000471076, MIN: 24781.91381859942, BEST: ['ㅂ', 'ㄴ', 'ㅈ', 'ㄷ', 'ㅣ', 'ㄱ', 'ㅅ', 'ㆍ', 'ㅡ', 'ㅇ']\n",
      "GEN: 61, AVG: 24900.71248174188, MIN: 24781.91381859942, BEST: ['ㅂ', 'ㄴ', 'ㅈ', 'ㄷ', 'ㅣ', 'ㄱ', 'ㅅ', 'ㆍ', 'ㅡ', 'ㅇ']\n",
      "GEN: 62, AVG: 25023.62144485662, MIN: 24781.91381859942, BEST: ['ㅂ', 'ㄴ', 'ㅈ', 'ㄷ', 'ㅣ', 'ㄱ', 'ㅅ', 'ㆍ', 'ㅡ', 'ㅇ']\n",
      "GEN: 63, AVG: 24892.829716692562, MIN: 24781.91381859942, BEST: ['ㅂ', 'ㄴ', 'ㅈ', 'ㄷ', 'ㅣ', 'ㄱ', 'ㅅ', 'ㆍ', 'ㅡ', 'ㅇ']\n",
      "GEN: 64, AVG: 24950.335424800018, MIN: 24781.91381859942, BEST: ['ㅂ', 'ㄴ', 'ㅈ', 'ㄷ', 'ㅣ', 'ㄱ', 'ㅅ', 'ㆍ', 'ㅡ', 'ㅇ']\n",
      "GEN: 65, AVG: 25064.035543030375, MIN: 24781.91381859942, BEST: ['ㅂ', 'ㄴ', 'ㅈ', 'ㄷ', 'ㅣ', 'ㄱ', 'ㅅ', 'ㆍ', 'ㅡ', 'ㅇ']\n",
      "GEN: 66, AVG: 25100.565040832997, MIN: 24781.91381859942, BEST: ['ㅂ', 'ㄴ', 'ㅈ', 'ㄷ', 'ㅣ', 'ㄱ', 'ㅅ', 'ㆍ', 'ㅡ', 'ㅇ']\n",
      "GEN: 67, AVG: 24982.410168007813, MIN: 24781.91381859942, BEST: ['ㅂ', 'ㄴ', 'ㅈ', 'ㄷ', 'ㅣ', 'ㄱ', 'ㅅ', 'ㆍ', 'ㅡ', 'ㅇ']\n",
      "GEN: 68, AVG: 25141.484904400622, MIN: 24781.91381859942, BEST: ['ㅂ', 'ㄴ', 'ㅈ', 'ㄷ', 'ㅣ', 'ㄱ', 'ㅅ', 'ㆍ', 'ㅡ', 'ㅇ']\n",
      "GEN: 69, AVG: 24853.61855172376, MIN: 24781.91381859942, BEST: ['ㅂ', 'ㄴ', 'ㅈ', 'ㄷ', 'ㅣ', 'ㄱ', 'ㅅ', 'ㆍ', 'ㅡ', 'ㅇ']\n",
      "GEN: 70, AVG: 25077.725329354427, MIN: 24781.91381859942, BEST: ['ㅂ', 'ㄴ', 'ㅈ', 'ㄷ', 'ㅣ', 'ㄱ', 'ㅅ', 'ㆍ', 'ㅡ', 'ㅇ']\n",
      "GEN: 71, AVG: 25263.635020152888, MIN: 24781.91381859942, BEST: ['ㅂ', 'ㄴ', 'ㅈ', 'ㄷ', 'ㅣ', 'ㄱ', 'ㅅ', 'ㆍ', 'ㅡ', 'ㅇ']\n",
      "GEN: 72, AVG: 25032.020177937302, MIN: 24781.91381859942, BEST: ['ㅂ', 'ㄴ', 'ㅈ', 'ㄷ', 'ㅣ', 'ㄱ', 'ㅅ', 'ㆍ', 'ㅡ', 'ㅇ']\n",
      "GEN: 73, AVG: 24951.171848563114, MIN: 24781.91381859942, BEST: ['ㅂ', 'ㄴ', 'ㅈ', 'ㄷ', 'ㅣ', 'ㄱ', 'ㅅ', 'ㆍ', 'ㅡ', 'ㅇ']\n",
      "GEN: 74, AVG: 25078.741467850003, MIN: 24781.91381859942, BEST: ['ㅂ', 'ㄴ', 'ㅈ', 'ㄷ', 'ㅣ', 'ㄱ', 'ㅅ', 'ㆍ', 'ㅡ', 'ㅇ']\n",
      "GEN: 75, AVG: 25235.552480954793, MIN: 24781.91381859942, BEST: ['ㅂ', 'ㄴ', 'ㅈ', 'ㄷ', 'ㅣ', 'ㄱ', 'ㅅ', 'ㆍ', 'ㅡ', 'ㅇ']\n",
      "GEN: 76, AVG: 25106.193846148468, MIN: 24781.91381859942, BEST: ['ㅂ', 'ㄴ', 'ㅈ', 'ㄷ', 'ㅣ', 'ㄱ', 'ㅅ', 'ㆍ', 'ㅡ', 'ㅇ']\n",
      "GEN: 77, AVG: 24920.883307751617, MIN: 24781.91381859942, BEST: ['ㅂ', 'ㄴ', 'ㅈ', 'ㄷ', 'ㅣ', 'ㄱ', 'ㅅ', 'ㆍ', 'ㅡ', 'ㅇ']\n",
      "GEN: 78, AVG: 24945.846425615935, MIN: 24781.91381859942, BEST: ['ㅂ', 'ㄴ', 'ㅈ', 'ㄷ', 'ㅣ', 'ㄱ', 'ㅅ', 'ㆍ', 'ㅡ', 'ㅇ']\n",
      "GEN: 79, AVG: 24810.458571791554, MIN: 24781.91381859942, BEST: ['ㅂ', 'ㄴ', 'ㅈ', 'ㄷ', 'ㅣ', 'ㄱ', 'ㅅ', 'ㆍ', 'ㅡ', 'ㅇ']\n",
      "GEN: 80, AVG: 24974.66167101664, MIN: 24781.91381859942, BEST: ['ㅂ', 'ㄴ', 'ㅈ', 'ㄷ', 'ㅣ', 'ㄱ', 'ㅅ', 'ㆍ', 'ㅡ', 'ㅇ']\n",
      "GEN: 81, AVG: 24976.853225810235, MIN: 24781.91381859942, BEST: ['ㅂ', 'ㄴ', 'ㅈ', 'ㄷ', 'ㅣ', 'ㄱ', 'ㅅ', 'ㆍ', 'ㅡ', 'ㅇ']\n",
      "GEN: 82, AVG: 24849.985367727422, MIN: 24781.91381859942, BEST: ['ㅂ', 'ㄴ', 'ㅈ', 'ㄷ', 'ㅣ', 'ㄱ', 'ㅅ', 'ㆍ', 'ㅡ', 'ㅇ']\n",
      "GEN: 83, AVG: 25001.555813391853, MIN: 24781.91381859942, BEST: ['ㅂ', 'ㄴ', 'ㅈ', 'ㄷ', 'ㅣ', 'ㄱ', 'ㅅ', 'ㆍ', 'ㅡ', 'ㅇ']\n",
      "GEN: 84, AVG: 24893.242092727887, MIN: 24781.91381859942, BEST: ['ㅂ', 'ㄴ', 'ㅈ', 'ㄷ', 'ㅣ', 'ㄱ', 'ㅅ', 'ㆍ', 'ㅡ', 'ㅇ']\n",
      "GEN: 85, AVG: 25048.82974557324, MIN: 24781.91381859942, BEST: ['ㅂ', 'ㄴ', 'ㅈ', 'ㄷ', 'ㅣ', 'ㄱ', 'ㅅ', 'ㆍ', 'ㅡ', 'ㅇ']\n",
      "GEN: 86, AVG: 25156.68066276996, MIN: 24781.91381859942, BEST: ['ㅂ', 'ㄴ', 'ㅈ', 'ㄷ', 'ㅣ', 'ㄱ', 'ㅅ', 'ㆍ', 'ㅡ', 'ㅇ']\n",
      "GEN: 87, AVG: 25124.12291548153, MIN: 24781.91381859942, BEST: ['ㅂ', 'ㄴ', 'ㅈ', 'ㄷ', 'ㅣ', 'ㄱ', 'ㅅ', 'ㆍ', 'ㅡ', 'ㅇ']\n",
      "GEN: 88, AVG: 25037.356547478554, MIN: 24781.91381859942, BEST: ['ㅂ', 'ㄴ', 'ㅈ', 'ㄷ', 'ㅣ', 'ㄱ', 'ㅅ', 'ㆍ', 'ㅡ', 'ㅇ']\n",
      "GEN: 89, AVG: 24955.832111933385, MIN: 24781.91381859942, BEST: ['ㅂ', 'ㄴ', 'ㅈ', 'ㄷ', 'ㅣ', 'ㄱ', 'ㅅ', 'ㆍ', 'ㅡ', 'ㅇ']\n",
      "GEN: 90, AVG: 24916.819674692146, MIN: 24781.91381859942, BEST: ['ㅂ', 'ㄴ', 'ㅈ', 'ㄷ', 'ㅣ', 'ㄱ', 'ㅅ', 'ㆍ', 'ㅡ', 'ㅇ']\n",
      "GEN: 91, AVG: 25018.71786119729, MIN: 24781.91381859942, BEST: ['ㅂ', 'ㄴ', 'ㅈ', 'ㄷ', 'ㅣ', 'ㄱ', 'ㅅ', 'ㆍ', 'ㅡ', 'ㅇ']\n",
      "GEN: 92, AVG: 24910.27891729963, MIN: 24781.91381859942, BEST: ['ㅂ', 'ㄴ', 'ㅈ', 'ㄷ', 'ㅣ', 'ㄱ', 'ㅅ', 'ㆍ', 'ㅡ', 'ㅇ']\n",
      "GEN: 93, AVG: 25095.155335809017, MIN: 24781.91381859942, BEST: ['ㅂ', 'ㄴ', 'ㅈ', 'ㄷ', 'ㅣ', 'ㄱ', 'ㅅ', 'ㆍ', 'ㅡ', 'ㅇ']\n",
      "GEN: 94, AVG: 24881.27377529865, MIN: 24781.91381859942, BEST: ['ㅂ', 'ㄴ', 'ㅈ', 'ㄷ', 'ㅣ', 'ㄱ', 'ㅅ', 'ㆍ', 'ㅡ', 'ㅇ']\n",
      "GEN: 95, AVG: 24969.017040955034, MIN: 24781.91381859942, BEST: ['ㅂ', 'ㄴ', 'ㅈ', 'ㄷ', 'ㅣ', 'ㄱ', 'ㅅ', 'ㆍ', 'ㅡ', 'ㅇ']\n",
      "GEN: 96, AVG: 24977.441085006514, MIN: 24781.91381859942, BEST: ['ㅂ', 'ㄴ', 'ㅈ', 'ㄷ', 'ㅣ', 'ㄱ', 'ㅅ', 'ㆍ', 'ㅡ', 'ㅇ']\n",
      "GEN: 97, AVG: 25182.33415711723, MIN: 24781.91381859942, BEST: ['ㅂ', 'ㄴ', 'ㅈ', 'ㄷ', 'ㅣ', 'ㄱ', 'ㅅ', 'ㆍ', 'ㅡ', 'ㅇ']\n",
      "GEN: 98, AVG: 25294.76407284123, MIN: 24781.91381859942, BEST: ['ㅂ', 'ㄴ', 'ㅈ', 'ㄷ', 'ㅣ', 'ㄱ', 'ㅅ', 'ㆍ', 'ㅡ', 'ㅇ']\n",
      "GEN: 99, AVG: 24972.52794694216, MIN: 24781.91381859942, BEST: ['ㅂ', 'ㄴ', 'ㅈ', 'ㄷ', 'ㅣ', 'ㄱ', 'ㅅ', 'ㆍ', 'ㅡ', 'ㅇ']\n",
      "GEN: 100, AVG: 25059.472111700714, MIN: 24781.91381859942, BEST: ['ㅂ', 'ㄴ', 'ㅈ', 'ㄷ', 'ㅣ', 'ㄱ', 'ㅅ', 'ㆍ', 'ㅡ', 'ㅇ']\n"
     ]
    }
   ],
   "source": [
    "P_SIZE = 100\n",
    "GENERATIONS = 100\n",
    "MUTATION_RATE = .1\n",
    "\n",
    "learning = {\n",
    "    'generations': {}\n",
    "}\n",
    "\n",
    "population = init_population(P_SIZE)\n",
    "\n",
    "for i in range(GENERATIONS):    \n",
    "    evals, sorted_evals = get_evals(population)\n",
    "    sum_evals = 0\n",
    "\n",
    "    for key in evals:\n",
    "        sum_evals += evals[key]\n",
    "\n",
    "    avg_evals = sum_evals/P_SIZE\n",
    "    learning['generations'][i] = {\n",
    "        'population': population,\n",
    "        'best': population[sorted_evals[0]],\n",
    "        'min': evals[sorted_evals[0]],\n",
    "        'avg': avg_evals\n",
    "    }\n",
    "\n",
    "    print('GEN: {}, AVG: {}, MIN: {}, BEST: {}'.format(i+1, avg_evals, evals[sorted_evals[0]], population[sorted_evals[0]]))\n",
    "    \n",
    "    population = new_generation(population, sorted_evals, P_SIZE, MUTATION_RATE)\n",
    "\n",
    "with open('learning.json', 'w') as fp:\n",
    "    json.dump(learning, fp)"
   ]
  },
  {
   "cell_type": "code",
   "execution_count": 17,
   "metadata": {},
   "outputs": [
    {
     "data": {
      "image/png": "[encoded data removed]",
      "text/plain": [
       "<Figure size 2000x600 with 2 Axes>"
      ]
     },
     "metadata": {},
     "output_type": "display_data"
    },
    {
     "data": {
      "text/plain": [
       "<Figure size 640x480 with 0 Axes>"
      ]
     },
     "metadata": {},
     "output_type": "display_data"
    }
   ],
   "source": [
    "with open('왼손 최적화.json') as fp:\n",
    "    learning = json.load(fp)\n",
    "    \n",
    "last_dist = 1000000000\n",
    "min_dists = []\n",
    "avg_dists = []\n",
    "generations = len(learning['generations'])\n",
    "\n",
    "for i in range(0, generations):\n",
    "    min_dist = learning['generations'][str(i)]['min']\n",
    "    avg_dist = learning['generations'][str(i)]['avg']\n",
    "    min_dists.append(min_dist)\n",
    "    avg_dists.append(avg_dist)\n",
    "    \n",
    "fig, axes = plt.subplots(1, 2, figsize=(20, 6))\n",
    "\n",
    "axes[0].plot(min_dists, label='Lowest Distance')\n",
    "axes[0].set_xlabel('Generations')\n",
    "axes[0].set_ylabel('Distance')\n",
    "axes[0].set_title('Lowest Distance')\n",
    "\n",
    "axes[1].plot(avg_dists, label='Average Distance', color='orange')\n",
    "axes[1].set_xlabel('Generations')\n",
    "axes[1].set_ylabel('Distance')\n",
    "axes[1].set_title('Average Distance')\n",
    "\n",
    "plt.show()\n",
    "plt.savefig('왼손 최적화.png')"
   ]
  },
  {
   "cell_type": "code",
   "execution_count": null,
   "metadata": {},
   "outputs": [],
   "source": []
  }
 ],
 "metadata": {
  "kernelspec": {
   "display_name": "Python 3",
   "language": "python",
   "name": "python3"
  },
  "language_info": {
   "codemirror_mode": {
    "name": "ipython",
    "version": 3
   },
   "file_extension": ".py",
   "mimetype": "text/x-python",
   "name": "python",
   "nbconvert_exporter": "python",
   "pygments_lexer": "ipython3",
   "version": "3.10.10"
  },
  "orig_nbformat": 4
 },
 "nbformat": 4,
 "nbformat_minor": 2
}
