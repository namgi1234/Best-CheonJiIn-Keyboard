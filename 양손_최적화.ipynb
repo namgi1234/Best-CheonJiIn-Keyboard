{
  "cells": [
    {
      "cell_type": "code",
      "execution_count": null,
      "metadata": {
        "id": "1fegGZyA60an",
        "outputId": "fc7e74c2-0899-441f-e7fb-761d2c710bd0"
      },
      "outputs": [
        {
          "name": "stdout",
          "output_type": "stream",
          "text": [
            "Requirement already satisfied: jamo in c:\\users\\승별\\appdata\\local\\programs\\python\\python310\\lib\\site-packages (0.4.1)\n",
            "Requirement already satisfied: tqdm in c:\\users\\승별\\appdata\\local\\programs\\python\\python310\\lib\\site-packages (4.65.0)\n",
            "Requirement already satisfied: colorama in c:\\users\\승별\\appdata\\roaming\\python\\python310\\site-packages (from tqdm) (0.4.6)\n",
            "Requirement already satisfied: Pillow in c:\\users\\승별\\appdata\\local\\programs\\python\\python310\\lib\\site-packages (9.4.0)\n",
            "Requirement already satisfied: matplotlib in c:\\users\\승별\\appdata\\local\\programs\\python\\python310\\lib\\site-packages (3.7.1)\n",
            "Requirement already satisfied: kiwisolver>=1.0.1 in c:\\users\\승별\\appdata\\local\\programs\\python\\python310\\lib\\site-packages (from matplotlib) (1.4.4)\n",
            "Requirement already satisfied: contourpy>=1.0.1 in c:\\users\\승별\\appdata\\local\\programs\\python\\python310\\lib\\site-packages (from matplotlib) (1.0.7)\n",
            "Requirement already satisfied: fonttools>=4.22.0 in c:\\users\\승별\\appdata\\local\\programs\\python\\python310\\lib\\site-packages (from matplotlib) (4.39.0)\n",
            "Requirement already satisfied: numpy>=1.20 in c:\\users\\승별\\appdata\\local\\programs\\python\\python310\\lib\\site-packages (from matplotlib) (1.24.2)\n",
            "Requirement already satisfied: packaging>=20.0 in c:\\users\\승별\\appdata\\roaming\\python\\python310\\site-packages (from matplotlib) (23.0)\n",
            "Requirement already satisfied: cycler>=0.10 in c:\\users\\승별\\appdata\\local\\programs\\python\\python310\\lib\\site-packages (from matplotlib) (0.11.0)\n",
            "Requirement already satisfied: python-dateutil>=2.7 in c:\\users\\승별\\appdata\\roaming\\python\\python310\\site-packages (from matplotlib) (2.8.2)\n",
            "Requirement already satisfied: pyparsing>=2.3.1 in c:\\users\\승별\\appdata\\local\\programs\\python\\python310\\lib\\site-packages (from matplotlib) (3.0.9)\n",
            "Requirement already satisfied: pillow>=6.2.0 in c:\\users\\승별\\appdata\\local\\programs\\python\\python310\\lib\\site-packages (from matplotlib) (9.4.0)\n",
            "Requirement already satisfied: six>=1.5 in c:\\users\\승별\\appdata\\roaming\\python\\python310\\site-packages (from python-dateutil>=2.7->matplotlib) (1.16.0)\n"
          ]
        }
      ],
      "source": [
        "! pip install jamo\n",
        "! pip install tqdm\n",
        "! pip install Pillow\n",
        "! pip install matplotlib"
      ]
    },
    {
      "cell_type": "code",
      "execution_count": null,
      "metadata": {
        "id": "_10JuUAm60ar"
      },
      "outputs": [],
      "source": [
        "import math\n",
        "import json\n",
        "import random\n",
        "from PIL import Image, ImageDraw, ImageFont\n",
        "import matplotlib.pyplot as plt\n",
        "from jamo import h2j, j2hcj\n",
        "from tqdm import tqdm\n",
        "from pprint import pprint"
      ]
    },
    {
      "cell_type": "code",
      "execution_count": null,
      "metadata": {
        "id": "PrDaxnbB60ar",
        "outputId": "c042ab1a-c449-4e9f-b2e3-477a3fe1136a"
      },
      "outputs": [
        {
          "name": "stdout",
          "output_type": "stream",
          "text": [
            "10\n"
          ]
        }
      ],
      "source": [
        "#좌표 세팅\n",
        "\n",
        "kb = 'ㅣㆍㅡㄱㄴㄷㅂㅅㅈㅇ'\n",
        "\n",
        "coords = {\n",
        "    0: (0, 0),\n",
        "    1: (72, 0),\n",
        "    2: (144, 0),\n",
        "    3: (0, 33),\n",
        "    4: (72, 33),\n",
        "    5: (144, 33),\n",
        "    6: (0, 66),\n",
        "    7:(72,66),\n",
        "    8:(144,66),\n",
        "    9:(72,99)\n",
        "}\n",
        "\n",
        "print(len(kb))"
      ]
    },
    {
      "cell_type": "code",
      "execution_count": null,
      "metadata": {
        "id": "AqtBMcVz60as",
        "outputId": "a4a3f754-e98a-4d71-e96b-68119a4afd3a"
      },
      "outputs": [
        {
          "name": "stdout",
          "output_type": "stream",
          "text": [
            "0.0\n",
            "122.41323457861898\n"
          ]
        }
      ],
      "source": [
        "#키 사이의 거리 계산\n",
        "\n",
        "def distance(first, second):\n",
        "    return math.hypot(second[0] - first[0], second[1] - first[1])\n",
        "\n",
        "# test\n",
        "print(distance(coords[0], coords[0]))\n",
        "print(distance(coords[0], coords[9]))"
      ]
    },
    {
      "cell_type": "code",
      "execution_count": null,
      "metadata": {
        "id": "pAqE7lY060as",
        "outputId": "a5dd1fcf-e1a5-440b-8f9c-8526060fbd63"
      },
      "outputs": [
        {
          "data": {
            "text/plain": [
              "{0: {0: 0.0,\n",
              "  1: 0.3333333333333333,\n",
              "  3: 0.1527777777777778,\n",
              "  4: 0.3666771884012246,\n",
              "  6: 0.3055555555555556},\n",
              " 1: {0: 0.3333333333333333,\n",
              "  1: 0.0,\n",
              "  3: 0.3666771884012246,\n",
              "  4: 0.1527777777777778,\n",
              "  6: 0.45218946100276963},\n",
              " 2: {2: 0.0,\n",
              "  5: 0.1527777777777778,\n",
              "  7: 0.45218946100276963,\n",
              "  8: 0.3055555555555556,\n",
              "  9: 0.5667279378639768},\n",
              " 3: {0: 0.1527777777777778,\n",
              "  1: 0.3666771884012246,\n",
              "  3: 0.0,\n",
              "  4: 0.3333333333333333,\n",
              "  6: 0.1527777777777778},\n",
              " 4: {0: 0.3666771884012246,\n",
              "  1: 0.1527777777777778,\n",
              "  3: 0.3333333333333333,\n",
              "  4: 0.0,\n",
              "  6: 0.3666771884012246},\n",
              " 5: {2: 0.1527777777777778,\n",
              "  5: 0.0,\n",
              "  7: 0.3666771884012246,\n",
              "  8: 0.1527777777777778,\n",
              "  9: 0.45218946100276963},\n",
              " 6: {0: 0.3055555555555556,\n",
              "  1: 0.45218946100276963,\n",
              "  3: 0.1527777777777778,\n",
              "  4: 0.3666771884012246,\n",
              "  6: 0.0},\n",
              " 7: {2: 0.45218946100276963,\n",
              "  5: 0.3666771884012246,\n",
              "  7: 0.0,\n",
              "  8: 0.3333333333333333,\n",
              "  9: 0.1527777777777778},\n",
              " 8: {2: 0.3055555555555556,\n",
              "  5: 0.1527777777777778,\n",
              "  7: 0.3333333333333333,\n",
              "  8: 0.0,\n",
              "  9: 0.3666771884012246},\n",
              " 9: {2: 0.5667279378639768,\n",
              "  5: 0.45218946100276963,\n",
              "  7: 0.1527777777777778,\n",
              "  8: 0.3666771884012246,\n",
              "  9: 0.0}}"
            ]
          },
          "execution_count": 5,
          "metadata": {},
          "output_type": "execute_result"
        }
      ],
      "source": [
        "keys_per_finger = [[0,1,3,4,6],[2,5,7,8,9]]\n",
        "KEY_WIDTH = 216\n",
        "\n",
        "distances = {i: {} for i in range(10)}\n",
        "\n",
        "for keys in keys_per_finger:\n",
        "    for i in keys:\n",
        "        for j in keys:\n",
        "            distances[i][j] = distance(coords[i], coords[j]) / KEY_WIDTH\n",
        "\n",
        "distances"
      ]
    },
    {
      "cell_type": "code",
      "execution_count": null,
      "metadata": {
        "id": "XKWuyW3e60at",
        "outputId": "1c83be3c-d931-4e1f-efc0-f0bb5d8083dc"
      },
      "outputs": [
        {
          "data": {
            "text/plain": [
              "{0: 3, 1: 3, 3: 3, 4: 3, 6: 3, 2: 5, 5: 5, 7: 5, 8: 5, 9: 5}"
            ]
          },
          "execution_count": 6,
          "metadata": {},
          "output_type": "execute_result"
        }
      ],
      "source": [
        "# 손가락 초기 위치 설정\n",
        "\n",
        "home_key_pos = [3,5]\n",
        "\n",
        "home_keys = {}\n",
        "for i, keys in enumerate(keys_per_finger):\n",
        "    for key in keys:\n",
        "        home_keys[key] = home_key_pos[i]\n",
        "\n",
        "home_keys"
      ]
    },
    {
      "cell_type": "code",
      "execution_count": null,
      "metadata": {
        "id": "rMg2oynr60at",
        "outputId": "b15c3e1f-9409-48fe-e8d2-d267c9134421"
      },
      "outputs": [
        {
          "data": {
            "text/plain": [
              "{'ㅣ': 0,\n",
              " 'ㆍ': 1,\n",
              " 'ㅡ': 2,\n",
              " 'ㄱ': 3,\n",
              " 'ㄲ': 3,\n",
              " 'ㄴ': 4,\n",
              " 'ㄹ': 4,\n",
              " 'ㄷ': 5,\n",
              " 'ㄸ': 5,\n",
              " 'ㅂ': 6,\n",
              " 'ㅃ': 6,\n",
              " 'ㅅ': 7,\n",
              " 'ㅆ': 7,\n",
              " 'ㅈ': 8,\n",
              " 'ㅉ': 8,\n",
              " 'ㅇ': 9,\n",
              " 'ㅁ': 9}"
            ]
          },
          "execution_count": 7,
          "metadata": {},
          "output_type": "execute_result"
        }
      ],
      "source": [
        "kb = 'ㅣㆍㅡㄱㄴㄷㅂㅅㅈㅇ'\n",
        "\n",
        "def genome_to_keyboard(genome):\n",
        "    keyboard = {}\n",
        "    for i, char in enumerate(genome):\n",
        "        keyboard[char] = i\n",
        "        \n",
        "        if char == 'ㅂ':\n",
        "            keyboard['ㅃ'] = i\n",
        "        elif char == 'ㅈ':\n",
        "            keyboard['ㅉ'] = i\n",
        "        elif char == 'ㄷ':\n",
        "            keyboard['ㄸ'] = i\n",
        "        elif char == 'ㄱ':\n",
        "            keyboard['ㄲ'] = i\n",
        "        elif char == 'ㅅ':\n",
        "            keyboard['ㅆ'] = i\n",
        "        elif char == 'ㄱ':\n",
        "            keyboard['ㅋ'] = i\n",
        "        elif char == 'ㄴ':\n",
        "            keyboard['ㄹ'] = i\n",
        "        elif char == 'ㄷ':\n",
        "            keyboard['ㅌ'] = i\n",
        "        elif char == 'ㅂ':\n",
        "            keyboard['ㅍ'] = i \n",
        "        elif char == 'ㅅ':\n",
        "            keyboard['ㅎ'] = i \n",
        "        elif char == 'ㅈ':\n",
        "            keyboard['ㅊ'] = i \n",
        "        elif char == 'ㅇ':\n",
        "            keyboard['ㅁ'] = i \n",
        "    return keyboard\n",
        "\n",
        "genome_to_keyboard(kb)"
      ]
    },
    {
      "cell_type": "code",
      "execution_count": null,
      "metadata": {
        "id": "OyEL2F2b60au",
        "outputId": "d7cdcdb6-c4e3-4b74-9c8e-6f6e0b30cae1"
      },
      "outputs": [
        {
          "data": {
            "text/plain": [
              "'ㄱㆍㆍㅣㅣㅅㅣㆍㄴㅈㅡㆍㅇㅊㆍㅡㅣㄱㆍㅡ'"
            ]
          },
          "execution_count": 8,
          "metadata": {},
          "output_type": "execute_result"
        }
      ],
      "source": [
        "def split_double_jamo(word):\n",
        "    jamo = j2hcj(h2j(word))\n",
        "    dic = {\n",
        "        'ㅏ': 'ㅣㆍ','ㅓ': 'ㆍㅣ','ㅗ': 'ㆍㅡ','ㅜ': 'ㅡㆍ',\n",
        "        'ㅕ': 'ㆍㆍㅣ','ㅑ': 'ㅣㆍㆍ','ㅛ': 'ㆍㆍㅡ',\"ㅐ\":'ㅣㆍㅣ',\"ㅔ\":'ㆍㅣㅣ',\"ㅖ\":'ㆍㆍㅣㅣ',\n",
        "        \"ㅒ\":'ㅣㆍㆍㅣ',\n",
        "        'ㅘ': 'ㆍㅡㅣㆍ', 'ㅙ': 'ㆍㅡㅣㆍㅣ', 'ㅚ': 'ㆍㅡㅣ', 'ㅝ': 'ㅡㆍㆍㅣ',\n",
        "        'ㅞ': 'ㅡㆍㆍㅣㅣ', 'ㅟ': 'ㅡㆍㅣ', 'ㅢ': 'ㅡㅣ',\n",
        "        'ㄳ': 'ㄱㅅ', 'ㄵ': 'ㄴㅈ', 'ㄶ': 'ㄴㅎ', 'ㄺ': 'ㄹㄱ',\n",
        "        'ㄻ': 'ㄹㅁ', 'ㄼ': 'ㄹㅂ', 'ㄽ': 'ㄹㅅ', 'ㄾ': 'ㄹㅌ', \n",
        "        'ㄿ': 'ㄹㅍ', 'ㅀ': 'ㄹㅎ', 'ㅄ': 'ㅂㅅ'}\n",
        "\n",
        "    for i in jamo:\n",
        "        if i in dic.keys():\n",
        "            jamo = jamo.replace(i,dic[i])\n",
        "    return jamo\n",
        "\n",
        "split_double_jamo('계산중최고')"
      ]
    },
    {
      "cell_type": "code",
      "execution_count": null,
      "metadata": {
        "id": "dDBBp8jj60au",
        "outputId": "137c760e-a683-4e5b-9e6e-0992a507db16"
      },
      "outputs": [
        {
          "name": "stderr",
          "output_type": "stream",
          "text": [
            "  1%|          | 3379/511496 [00:02<05:48, 1455.97it/s]"
          ]
        },
        {
          "name": "stdout",
          "output_type": "stream",
          "text": [
            "8548\n",
            "100004\n"
          ]
        },
        {
          "name": "stderr",
          "output_type": "stream",
          "text": [
            "\n"
          ]
        }
      ],
      "source": [
        "JSON_FILE_PATH = 'main.json'\n",
        "DATA_LIMIT = 100000\n",
        "\n",
        "full_text = ''\n",
        "legal_chars = 'ㅣㆍㅡㄱㄲㄴㄹㄷㄸㅂㅃㅅㅆㅈㅉㅇㅁ'\n",
        "\n",
        "count = 0\n",
        "\n",
        "with open(JSON_FILE_PATH,'rt',encoding='UTF8') as f:\n",
        "    data = json.load(f)\n",
        "    \n",
        "    for d in tqdm(data['data']):\n",
        "        if len(full_text) > DATA_LIMIT:\n",
        "            break\n",
        "\n",
        "        for body in d['body']:\n",
        "            if body['utterance'].startswith('#@'): # 사진, 동영상 등 제거\n",
        "                continue\n",
        "\n",
        "            text = body['utterance'].replace('\\n', ' ').strip()\n",
        "            \n",
        "            jamo_text = split_double_jamo(text)\n",
        "            \n",
        "            if any(char not in legal_chars for char in jamo_text): # 숫자, 영어 제거\n",
        "                continue\n",
        "\n",
        "            full_text += ' ' + jamo_text\n",
        "            count += 1\n",
        "\n",
        "print(count)\n",
        "print(len(full_text))"
      ]
    },
    {
      "cell_type": "code",
      "execution_count": null,
      "metadata": {
        "id": "ucS0Wia760av",
        "outputId": "507a0b94-f8e2-4756-d321-2606999bbd6a"
      },
      "outputs": [
        {
          "data": {
            "text/plain": [
              "2.9827765817619984"
            ]
          },
          "execution_count": 10,
          "metadata": {},
          "output_type": "execute_result"
        }
      ],
      "source": [
        "def total_distance(input_string, keyboard):\n",
        "    input_string = split_double_jamo(input_string.strip())\n",
        "    input_string = input_string.replace(' ', '')\n",
        "\n",
        "    first_char = input_string[0]\n",
        "    first_pos = keyboard[first_char]\n",
        "    first_home_key = home_keys[first_pos]\n",
        "    total_dist = distances[first_home_key][first_pos]\n",
        "\n",
        "    for i in range(0, len(input_string)-1):\n",
        "        cur_char = input_string[i]\n",
        "        next_char = input_string[i+1]\n",
        "        cur_pos = keyboard[cur_char]\n",
        "        next_pos = keyboard[next_char]\n",
        "\n",
        "        if cur_pos in distances and next_pos in distances[cur_pos]:\n",
        "            total_dist += distances[cur_pos][next_pos]\n",
        "        else:\n",
        "            home_key = home_keys[next_pos]\n",
        "            total_dist += distances[home_key][next_pos]\n",
        "\n",
        "    return total_dist\n",
        "\n",
        "# test\n",
        "total_distance('계산중', genome_to_keyboard(kb))"
      ]
    },
    {
      "cell_type": "code",
      "execution_count": null,
      "metadata": {
        "id": "8O9U-9No60av",
        "outputId": "f44561d9-759f-4439-f527-75834fa1cb97"
      },
      "outputs": [
        {
          "data": {
            "text/plain": [
              "[['ㅇ', 'ㄱ', 'ㅈ', 'ㆍ', 'ㅡ', 'ㅅ', 'ㅣ', 'ㅂ', 'ㄷ', 'ㄴ'],\n",
              " ['ㆍ', 'ㅈ', 'ㅣ', 'ㅡ', 'ㄷ', 'ㄴ', 'ㅂ', 'ㅇ', 'ㅅ', 'ㄱ']]"
            ]
          },
          "execution_count": 11,
          "metadata": {},
          "output_type": "execute_result"
        }
      ],
      "source": [
        "def init_population(pop_size):\n",
        "    keyboard_chars = list('ㅣㆍㅡㄱㄴㄷㅂㅅㅈㅇ')\n",
        "    population = []\n",
        "    for i in range(pop_size):\n",
        "        rand_gnome = keyboard_chars[:]\n",
        "        random.shuffle(rand_gnome)\n",
        "        population.append(rand_gnome)\n",
        "    return population\n",
        "\n",
        "test_genomes = init_population(2)\n",
        "\n",
        "test_genomes"
      ]
    },
    {
      "cell_type": "code",
      "execution_count": null,
      "metadata": {
        "id": "i0WvzKRS60aw",
        "outputId": "54d66053-0245-4a14-886b-5d7adc53d1f0"
      },
      "outputs": [
        {
          "data": {
            "text/plain": [
              "['ㅇ', 'ㄱ', 'ㆍ', 'ㅈ', 'ㅡ', 'ㅅ', 'ㅣ', 'ㅂ', 'ㄷ', 'ㄴ']"
            ]
          },
          "execution_count": 12,
          "metadata": {},
          "output_type": "execute_result"
        }
      ],
      "source": [
        "def mate(board1, board2, mutation_rate):\n",
        "    keyboard_size = len(board1)\n",
        "    idx = random.randint(0, keyboard_size-1)\n",
        "    length = random.randint(0, keyboard_size-1)\n",
        "    child = ['_' for i in range(keyboard_size)]\n",
        "\n",
        "    for i in range(length):\n",
        "        if idx > keyboard_size-1:\n",
        "            idx = 0\n",
        "        child[idx] = board1[idx]\n",
        "        idx += 1\n",
        "\n",
        "    child_idx = idx\n",
        "\n",
        "    while '_' in child:\n",
        "        if idx > keyboard_size-1:\n",
        "            idx = 0\n",
        "        if child_idx > keyboard_size-1:\n",
        "            child_idx = 0\n",
        "        char = board2[idx]\n",
        "        if char in child:\n",
        "            idx += 1\n",
        "            continue\n",
        "        child[child_idx] = board2[idx]\n",
        "        child_idx += 1\n",
        "        idx += 1\n",
        "        \n",
        "    prob = random.random()\n",
        "\n",
        "    if prob < mutation_rate:\n",
        "        point1 = random.randint(0, 9)\n",
        "        point2 = random.randint(0, 9)\n",
        "        allele1 = child[point1]\n",
        "        allele2 = child[point2]\n",
        "        child[point1] = allele2\n",
        "        child[point2] = allele1\n",
        "        \n",
        "    return child\n",
        "\n",
        "mate(test_genomes[0], test_genomes[1], 0.1)"
      ]
    },
    {
      "cell_type": "code",
      "execution_count": null,
      "metadata": {
        "id": "Xbd5_1d360aw",
        "outputId": "dcf64647-2c1a-47e6-c66d-2055e825416b"
      },
      "outputs": [
        {
          "data": {
            "text/plain": [
              "({0: 20939.12136481036, 1: 19603.067397006147}, [1, 0])"
            ]
          },
          "execution_count": 13,
          "metadata": {},
          "output_type": "execute_result"
        }
      ],
      "source": [
        "def get_evals(population):\n",
        "    evals = {}\n",
        "\n",
        "    for i, genome in enumerate(population):\n",
        "        keyboard = genome_to_keyboard(genome)\n",
        "        dist = total_distance(full_text, keyboard)\n",
        "        evals[i] = dist\n",
        "\n",
        "    sorted_evals = [k for k, v in sorted(evals.items(), key=lambda item: item[1])]\n",
        "\n",
        "    return evals, sorted_evals\n",
        "\n",
        "get_evals(test_genomes)"
      ]
    },
    {
      "cell_type": "code",
      "execution_count": null,
      "metadata": {
        "id": "QEW-nTgj60aw",
        "outputId": "111b448b-7f9d-4127-b701-7146b77ebf91"
      },
      "outputs": [
        {
          "data": {
            "text/plain": [
              "[['ㆍ', 'ㅈ', 'ㅣ', 'ㅡ', 'ㄷ', 'ㄴ', 'ㅂ', 'ㅇ', 'ㅅ', 'ㄱ'],\n",
              " ['ㅇ', 'ㄱ', 'ㅈ', 'ㆍ', 'ㅂ', 'ㅅ', 'ㅣ', 'ㅡ', 'ㄷ', 'ㄴ'],\n",
              " ['ㄱ', 'ㅈ', 'ㅣ', 'ㆍ', 'ㅡ', 'ㅅ', 'ㅂ', 'ㄷ', 'ㄴ', 'ㅇ'],\n",
              " ['ㅇ', 'ㄱ', 'ㅈ', 'ㆍ', 'ㅡ', 'ㅅ', 'ㅣ', 'ㅂ', 'ㄷ', 'ㄴ'],\n",
              " ['ㅇ', 'ㄱ', 'ㅈ', 'ㆍ', 'ㅡ', 'ㅅ', 'ㅣ', 'ㅂ', 'ㄷ', 'ㄴ'],\n",
              " ['ㅇ', 'ㄱ', 'ㅈ', 'ㆍ', 'ㅡ', 'ㅅ', 'ㅣ', 'ㅂ', 'ㄷ', 'ㄴ'],\n",
              " ['ㅇ', 'ㄱ', 'ㅈ', 'ㆍ', 'ㅡ', 'ㅅ', 'ㅣ', 'ㅂ', 'ㄷ', 'ㄴ'],\n",
              " ['ㅈ', 'ㅣ', 'ㄷ', 'ㆍ', 'ㅡ', 'ㄴ', 'ㅂ', 'ㅇ', 'ㅅ', 'ㄱ'],\n",
              " ['ㅇ', 'ㄱ', 'ㅈ', 'ㆍ', 'ㅡ', 'ㅅ', 'ㅣ', 'ㅂ', 'ㄷ', 'ㄴ'],\n",
              " ['ㅇ', 'ㄱ', 'ㅈ', 'ㆍ', 'ㄷ', 'ㅂ', 'ㅅ', 'ㅣ', 'ㅡ', 'ㄴ']]"
            ]
          },
          "execution_count": 14,
          "metadata": {},
          "output_type": "execute_result"
        }
      ],
      "source": [
        "def new_generation(population, sorted_evals, p_size, mutation_rate):\n",
        "    new_gen = []\n",
        "    sorted_population = []\n",
        "\n",
        "    for i in sorted_evals:\n",
        "        sorted_population.append(population[i])\n",
        "        \n",
        "    for i in range(int(p_size*0.1)):\n",
        "        new_gen.append(sorted_population[i])\n",
        "\n",
        "    for _ in range(int(p_size*0.9)):\n",
        "        p1 = random.choice(sorted_population[:int(p_size*0.5)])\n",
        "        p2 = random.choice(sorted_population[:int(p_size*0.5)])\n",
        "        child = mate(p1, p2, mutation_rate)\n",
        "        new_gen.append(child)\n",
        "    \n",
        "    return new_gen\n",
        "\n",
        "new_generation(test_genomes, sorted_evals=[1, 0], p_size=10, mutation_rate=0.1)"
      ]
    },
    {
      "cell_type": "code",
      "execution_count": null,
      "metadata": {
        "id": "1-DXeDiS60ax",
        "outputId": "773ac1a6-93a3-425c-a516-239045c3b042"
      },
      "outputs": [
        {
          "name": "stdout",
          "output_type": "stream",
          "text": [
            "GEN: 1, AVG: 21860.170562688512, MIN: 14110.173341196896, BEST: ['ㅈ', 'ㅅ', 'ㄱ', 'ㆍ', 'ㄷ', 'ㅣ', 'ㅇ', 'ㅂ', 'ㄴ', 'ㅡ']\n",
            "GEN: 2, AVG: 19852.678484529566, MIN: 13306.742816432043, BEST: ['ㅇ', 'ㅅ', 'ㄴ', 'ㅣ', 'ㄷ', 'ㆍ', 'ㅡ', 'ㅈ', 'ㅂ', 'ㄱ']\n",
            "GEN: 3, AVG: 18881.522285343377, MIN: 12706.516423785186, BEST: ['ㅡ', 'ㅅ', 'ㅇ', 'ㆍ', 'ㅂ', 'ㅣ', 'ㄴ', 'ㅈ', 'ㄱ', 'ㄷ']\n",
            "GEN: 4, AVG: 17952.128690477613, MIN: 12706.516423785186, BEST: ['ㅡ', 'ㅅ', 'ㅇ', 'ㆍ', 'ㅂ', 'ㅣ', 'ㄴ', 'ㅈ', 'ㄱ', 'ㄷ']\n",
            "GEN: 5, AVG: 17257.34027555425, MIN: 12706.516423785186, BEST: ['ㅡ', 'ㅅ', 'ㅇ', 'ㆍ', 'ㅂ', 'ㅣ', 'ㄴ', 'ㅈ', 'ㄱ', 'ㄷ']\n",
            "GEN: 6, AVG: 16741.267512394945, MIN: 12246.168513022694, BEST: ['ㅇ', 'ㅂ', 'ㄴ', 'ㅣ', 'ㄷ', 'ㆍ', 'ㅡ', 'ㅈ', 'ㄱ', 'ㅅ']\n",
            "GEN: 7, AVG: 15522.770293993088, MIN: 12246.168513022694, BEST: ['ㅇ', 'ㅂ', 'ㄴ', 'ㅣ', 'ㄷ', 'ㆍ', 'ㅡ', 'ㅈ', 'ㄱ', 'ㅅ']\n",
            "GEN: 8, AVG: 15096.148487393737, MIN: 12173.006294999275, BEST: ['ㅇ', 'ㅅ', 'ㄴ', 'ㅣ', 'ㄷ', 'ㆍ', 'ㅡ', 'ㅈ', 'ㄱ', 'ㅂ']\n",
            "GEN: 9, AVG: 14293.66251581054, MIN: 12173.006294999275, BEST: ['ㅇ', 'ㅅ', 'ㄴ', 'ㅣ', 'ㄷ', 'ㆍ', 'ㅡ', 'ㅈ', 'ㄱ', 'ㅂ']\n",
            "GEN: 10, AVG: 13830.881931134069, MIN: 12173.006294999275, BEST: ['ㅇ', 'ㅅ', 'ㄴ', 'ㅣ', 'ㄷ', 'ㆍ', 'ㅡ', 'ㅈ', 'ㄱ', 'ㅂ']\n",
            "GEN: 11, AVG: 14122.819003673203, MIN: 12173.006294999275, BEST: ['ㅇ', 'ㅅ', 'ㄴ', 'ㅣ', 'ㄷ', 'ㆍ', 'ㅡ', 'ㅈ', 'ㄱ', 'ㅂ']\n",
            "GEN: 12, AVG: 14504.999733551225, MIN: 12173.006294999275, BEST: ['ㅇ', 'ㅅ', 'ㄴ', 'ㅣ', 'ㄷ', 'ㆍ', 'ㅡ', 'ㅈ', 'ㄱ', 'ㅂ']\n",
            "GEN: 13, AVG: 14790.391780504207, MIN: 12173.006294999275, BEST: ['ㅇ', 'ㅅ', 'ㄴ', 'ㅣ', 'ㄷ', 'ㆍ', 'ㅡ', 'ㅈ', 'ㄱ', 'ㅂ']\n",
            "GEN: 14, AVG: 14395.873905836186, MIN: 11964.549562140288, BEST: ['ㅇ', 'ㅅ', 'ㅡ', 'ㆍ', 'ㅈ', 'ㅣ', 'ㄴ', 'ㅂ', 'ㄱ', 'ㄷ']\n",
            "GEN: 15, AVG: 13896.865090573914, MIN: 11768.88090237122, BEST: ['ㄱ', 'ㅅ', 'ㄴ', 'ㅣ', 'ㄷ', 'ㆍ', 'ㅡ', 'ㅈ', 'ㅇ', 'ㅂ']\n",
            "GEN: 16, AVG: 13312.389340012258, MIN: 11768.88090237122, BEST: ['ㄱ', 'ㅅ', 'ㄴ', 'ㅣ', 'ㄷ', 'ㆍ', 'ㅡ', 'ㅈ', 'ㅇ', 'ㅂ']\n",
            "GEN: 17, AVG: 12767.285187178617, MIN: 11739.40458270927, BEST: ['ㅡ', 'ㅅ', 'ㄴ', 'ㅣ', 'ㄷ', 'ㆍ', 'ㄱ', 'ㅈ', 'ㅇ', 'ㅂ']\n",
            "GEN: 18, AVG: 13168.309477880508, MIN: 11739.40458270927, BEST: ['ㅡ', 'ㅅ', 'ㄴ', 'ㅣ', 'ㄷ', 'ㆍ', 'ㄱ', 'ㅈ', 'ㅇ', 'ㅂ']\n",
            "GEN: 19, AVG: 13448.25246289282, MIN: 11739.40458270927, BEST: ['ㅡ', 'ㅅ', 'ㄴ', 'ㅣ', 'ㄷ', 'ㆍ', 'ㄱ', 'ㅈ', 'ㅇ', 'ㅂ']\n",
            "GEN: 20, AVG: 12516.424806240473, MIN: 11739.40458270927, BEST: ['ㅡ', 'ㅅ', 'ㄴ', 'ㅣ', 'ㄷ', 'ㆍ', 'ㄱ', 'ㅈ', 'ㅇ', 'ㅂ']\n",
            "GEN: 21, AVG: 12402.88992783112, MIN: 11739.40458270927, BEST: ['ㅡ', 'ㅅ', 'ㄴ', 'ㅣ', 'ㄷ', 'ㆍ', 'ㄱ', 'ㅈ', 'ㅇ', 'ㅂ']\n",
            "GEN: 22, AVG: 12435.827657768268, MIN: 11739.40458270927, BEST: ['ㅡ', 'ㅅ', 'ㄴ', 'ㅣ', 'ㄷ', 'ㆍ', 'ㄱ', 'ㅈ', 'ㅇ', 'ㅂ']\n",
            "GEN: 23, AVG: 12516.892969112076, MIN: 11739.40458270927, BEST: ['ㅡ', 'ㅅ', 'ㄴ', 'ㅣ', 'ㄷ', 'ㆍ', 'ㄱ', 'ㅈ', 'ㅇ', 'ㅂ']\n",
            "GEN: 24, AVG: 11941.789387560333, MIN: 11716.28630810884, BEST: ['ㅡ', 'ㄷ', 'ㄴ', 'ㅣ', 'ㅅ', 'ㆍ', 'ㄱ', 'ㅈ', 'ㅇ', 'ㅂ']\n",
            "GEN: 25, AVG: 11940.939005554015, MIN: 11716.28630810884, BEST: ['ㅡ', 'ㄷ', 'ㄴ', 'ㅣ', 'ㅅ', 'ㆍ', 'ㄱ', 'ㅈ', 'ㅇ', 'ㅂ']\n",
            "GEN: 26, AVG: 11878.957662362729, MIN: 11716.28630810884, BEST: ['ㅡ', 'ㄷ', 'ㄴ', 'ㅣ', 'ㅅ', 'ㆍ', 'ㄱ', 'ㅈ', 'ㅇ', 'ㅂ']\n",
            "GEN: 27, AVG: 12427.49885463381, MIN: 11716.28630810884, BEST: ['ㅡ', 'ㄷ', 'ㄴ', 'ㅣ', 'ㅅ', 'ㆍ', 'ㄱ', 'ㅈ', 'ㅇ', 'ㅂ']\n",
            "GEN: 28, AVG: 12208.947338063186, MIN: 11716.28630810884, BEST: ['ㅡ', 'ㄷ', 'ㄴ', 'ㅣ', 'ㅅ', 'ㆍ', 'ㄱ', 'ㅈ', 'ㅇ', 'ㅂ']\n",
            "GEN: 29, AVG: 13542.959197436743, MIN: 11716.28630810884, BEST: ['ㅡ', 'ㄷ', 'ㄴ', 'ㅣ', 'ㅅ', 'ㆍ', 'ㄱ', 'ㅈ', 'ㅇ', 'ㅂ']\n",
            "GEN: 30, AVG: 12444.113988912648, MIN: 11716.28630810884, BEST: ['ㅡ', 'ㄷ', 'ㄴ', 'ㅣ', 'ㅅ', 'ㆍ', 'ㄱ', 'ㅈ', 'ㅇ', 'ㅂ']\n",
            "GEN: 31, AVG: 11758.426121865125, MIN: 11716.28630810884, BEST: ['ㅡ', 'ㄷ', 'ㄴ', 'ㅣ', 'ㅅ', 'ㆍ', 'ㄱ', 'ㅈ', 'ㅇ', 'ㅂ']\n",
            "GEN: 32, AVG: 11819.238330709506, MIN: 11716.28630810884, BEST: ['ㅡ', 'ㄷ', 'ㄴ', 'ㅣ', 'ㅅ', 'ㆍ', 'ㄱ', 'ㅈ', 'ㅇ', 'ㅂ']\n",
            "GEN: 33, AVG: 11807.4347302638, MIN: 11716.28630810884, BEST: ['ㅡ', 'ㄷ', 'ㄴ', 'ㅣ', 'ㅅ', 'ㆍ', 'ㄱ', 'ㅈ', 'ㅇ', 'ㅂ']\n",
            "GEN: 34, AVG: 12252.440208778944, MIN: 11716.28630810884, BEST: ['ㅡ', 'ㄷ', 'ㄴ', 'ㅣ', 'ㅅ', 'ㆍ', 'ㄱ', 'ㅈ', 'ㅇ', 'ㅂ']\n",
            "GEN: 35, AVG: 11892.941609746238, MIN: 11716.28630810884, BEST: ['ㅡ', 'ㄷ', 'ㄴ', 'ㅣ', 'ㅅ', 'ㆍ', 'ㄱ', 'ㅈ', 'ㅇ', 'ㅂ']\n",
            "GEN: 36, AVG: 11766.98532544005, MIN: 11716.28630810884, BEST: ['ㅡ', 'ㄷ', 'ㄴ', 'ㅣ', 'ㅅ', 'ㆍ', 'ㄱ', 'ㅈ', 'ㅇ', 'ㅂ']\n",
            "GEN: 37, AVG: 12167.87349042525, MIN: 11716.28630810884, BEST: ['ㅡ', 'ㄷ', 'ㄴ', 'ㅣ', 'ㅅ', 'ㆍ', 'ㄱ', 'ㅈ', 'ㅇ', 'ㅂ']\n",
            "GEN: 38, AVG: 11877.73940622699, MIN: 11716.28630810884, BEST: ['ㅡ', 'ㄷ', 'ㄴ', 'ㅣ', 'ㅅ', 'ㆍ', 'ㄱ', 'ㅈ', 'ㅇ', 'ㅂ']\n",
            "GEN: 39, AVG: 11841.81824084129, MIN: 11716.28630810884, BEST: ['ㅡ', 'ㄷ', 'ㄴ', 'ㅣ', 'ㅅ', 'ㆍ', 'ㄱ', 'ㅈ', 'ㅇ', 'ㅂ']\n",
            "GEN: 40, AVG: 11779.373144201347, MIN: 11716.28630810884, BEST: ['ㅡ', 'ㄷ', 'ㄴ', 'ㅣ', 'ㅅ', 'ㆍ', 'ㄱ', 'ㅈ', 'ㅇ', 'ㅂ']\n",
            "GEN: 41, AVG: 11917.925455349132, MIN: 11716.28630810884, BEST: ['ㅡ', 'ㄷ', 'ㄴ', 'ㅣ', 'ㅅ', 'ㆍ', 'ㄱ', 'ㅈ', 'ㅇ', 'ㅂ']\n",
            "GEN: 42, AVG: 11895.121604206744, MIN: 11716.28630810884, BEST: ['ㅡ', 'ㄷ', 'ㄴ', 'ㅣ', 'ㅅ', 'ㆍ', 'ㄱ', 'ㅈ', 'ㅇ', 'ㅂ']\n",
            "GEN: 43, AVG: 11851.685805255183, MIN: 11716.28630810884, BEST: ['ㅡ', 'ㄷ', 'ㄴ', 'ㅣ', 'ㅅ', 'ㆍ', 'ㄱ', 'ㅈ', 'ㅇ', 'ㅂ']\n",
            "GEN: 44, AVG: 11816.468955294853, MIN: 11716.28630810884, BEST: ['ㅡ', 'ㄷ', 'ㄴ', 'ㅣ', 'ㅅ', 'ㆍ', 'ㄱ', 'ㅈ', 'ㅇ', 'ㅂ']\n",
            "GEN: 45, AVG: 11949.508311945829, MIN: 11716.28630810884, BEST: ['ㅡ', 'ㄷ', 'ㄴ', 'ㅣ', 'ㅅ', 'ㆍ', 'ㄱ', 'ㅈ', 'ㅇ', 'ㅂ']\n",
            "GEN: 46, AVG: 12045.132890424522, MIN: 11716.28630810884, BEST: ['ㅡ', 'ㄷ', 'ㄴ', 'ㅣ', 'ㅅ', 'ㆍ', 'ㄱ', 'ㅈ', 'ㅇ', 'ㅂ']\n",
            "GEN: 47, AVG: 12032.36992741367, MIN: 11716.28630810884, BEST: ['ㅡ', 'ㄷ', 'ㄴ', 'ㅣ', 'ㅅ', 'ㆍ', 'ㄱ', 'ㅈ', 'ㅇ', 'ㅂ']\n",
            "GEN: 48, AVG: 12046.840989476112, MIN: 11716.28630810884, BEST: ['ㅡ', 'ㄷ', 'ㄴ', 'ㅣ', 'ㅅ', 'ㆍ', 'ㄱ', 'ㅈ', 'ㅇ', 'ㅂ']\n",
            "GEN: 49, AVG: 11924.430313342125, MIN: 11716.28630810884, BEST: ['ㅡ', 'ㄷ', 'ㄴ', 'ㅣ', 'ㅅ', 'ㆍ', 'ㄱ', 'ㅈ', 'ㅇ', 'ㅂ']\n",
            "GEN: 50, AVG: 11995.11152708201, MIN: 11716.28630810884, BEST: ['ㅡ', 'ㄷ', 'ㄴ', 'ㅣ', 'ㅅ', 'ㆍ', 'ㄱ', 'ㅈ', 'ㅇ', 'ㅂ']\n",
            "GEN: 51, AVG: 11814.08630102862, MIN: 11716.28630810884, BEST: ['ㅡ', 'ㄷ', 'ㄴ', 'ㅣ', 'ㅅ', 'ㆍ', 'ㄱ', 'ㅈ', 'ㅇ', 'ㅂ']\n",
            "GEN: 52, AVG: 11944.249422046623, MIN: 11716.28630810884, BEST: ['ㅡ', 'ㄷ', 'ㄴ', 'ㅣ', 'ㅅ', 'ㆍ', 'ㄱ', 'ㅈ', 'ㅇ', 'ㅂ']\n",
            "GEN: 53, AVG: 11905.231313894295, MIN: 11716.28630810884, BEST: ['ㅡ', 'ㄷ', 'ㄴ', 'ㅣ', 'ㅅ', 'ㆍ', 'ㄱ', 'ㅈ', 'ㅇ', 'ㅂ']\n",
            "GEN: 54, AVG: 12068.847215904054, MIN: 11716.28630810884, BEST: ['ㅡ', 'ㄷ', 'ㄴ', 'ㅣ', 'ㅅ', 'ㆍ', 'ㄱ', 'ㅈ', 'ㅇ', 'ㅂ']\n",
            "GEN: 55, AVG: 11951.329772827301, MIN: 11716.28630810884, BEST: ['ㅡ', 'ㄷ', 'ㄴ', 'ㅣ', 'ㅅ', 'ㆍ', 'ㄱ', 'ㅈ', 'ㅇ', 'ㅂ']\n",
            "GEN: 56, AVG: 11782.040859856479, MIN: 11716.28630810884, BEST: ['ㅡ', 'ㄷ', 'ㄴ', 'ㅣ', 'ㅅ', 'ㆍ', 'ㄱ', 'ㅈ', 'ㅇ', 'ㅂ']\n",
            "GEN: 57, AVG: 11731.13755760548, MIN: 11716.28630810884, BEST: ['ㅡ', 'ㄷ', 'ㄴ', 'ㅣ', 'ㅅ', 'ㆍ', 'ㄱ', 'ㅈ', 'ㅇ', 'ㅂ']\n",
            "GEN: 58, AVG: 11802.283216658869, MIN: 11716.28630810884, BEST: ['ㅡ', 'ㄷ', 'ㄴ', 'ㅣ', 'ㅅ', 'ㆍ', 'ㄱ', 'ㅈ', 'ㅇ', 'ㅂ']\n",
            "GEN: 59, AVG: 11830.808748114552, MIN: 11716.28630810884, BEST: ['ㅡ', 'ㄷ', 'ㄴ', 'ㅣ', 'ㅅ', 'ㆍ', 'ㄱ', 'ㅈ', 'ㅇ', 'ㅂ']\n",
            "GEN: 60, AVG: 11972.411265126884, MIN: 11716.28630810884, BEST: ['ㅡ', 'ㄷ', 'ㄴ', 'ㅣ', 'ㅅ', 'ㆍ', 'ㄱ', 'ㅈ', 'ㅇ', 'ㅂ']\n",
            "GEN: 61, AVG: 11926.60482437588, MIN: 11716.28630810884, BEST: ['ㅡ', 'ㄷ', 'ㄴ', 'ㅣ', 'ㅅ', 'ㆍ', 'ㄱ', 'ㅈ', 'ㅇ', 'ㅂ']\n",
            "GEN: 62, AVG: 11833.487587886082, MIN: 11716.28630810884, BEST: ['ㅡ', 'ㄷ', 'ㄴ', 'ㅣ', 'ㅅ', 'ㆍ', 'ㄱ', 'ㅈ', 'ㅇ', 'ㅂ']\n",
            "GEN: 63, AVG: 11796.108157603208, MIN: 11716.28630810884, BEST: ['ㅡ', 'ㄷ', 'ㄴ', 'ㅣ', 'ㅅ', 'ㆍ', 'ㄱ', 'ㅈ', 'ㅇ', 'ㅂ']\n",
            "GEN: 64, AVG: 12015.119640851208, MIN: 11716.28630810884, BEST: ['ㅡ', 'ㄷ', 'ㄴ', 'ㅣ', 'ㅅ', 'ㆍ', 'ㄱ', 'ㅈ', 'ㅇ', 'ㅂ']\n",
            "GEN: 65, AVG: 12095.546651987865, MIN: 11716.28630810884, BEST: ['ㅡ', 'ㄷ', 'ㄴ', 'ㅣ', 'ㅅ', 'ㆍ', 'ㄱ', 'ㅈ', 'ㅇ', 'ㅂ']\n",
            "GEN: 66, AVG: 11836.511264686931, MIN: 11716.28630810884, BEST: ['ㅡ', 'ㄷ', 'ㄴ', 'ㅣ', 'ㅅ', 'ㆍ', 'ㄱ', 'ㅈ', 'ㅇ', 'ㅂ']\n",
            "GEN: 67, AVG: 11803.17241651914, MIN: 11716.28630810884, BEST: ['ㅡ', 'ㄷ', 'ㄴ', 'ㅣ', 'ㅅ', 'ㆍ', 'ㄱ', 'ㅈ', 'ㅇ', 'ㅂ']\n",
            "GEN: 68, AVG: 11969.29957067804, MIN: 11716.28630810884, BEST: ['ㅡ', 'ㄷ', 'ㄴ', 'ㅣ', 'ㅅ', 'ㆍ', 'ㄱ', 'ㅈ', 'ㅇ', 'ㅂ']\n",
            "GEN: 69, AVG: 11839.734384796191, MIN: 11716.28630810884, BEST: ['ㅡ', 'ㄷ', 'ㄴ', 'ㅣ', 'ㅅ', 'ㆍ', 'ㄱ', 'ㅈ', 'ㅇ', 'ㅂ']\n",
            "GEN: 70, AVG: 11913.337173757342, MIN: 11716.28630810884, BEST: ['ㅡ', 'ㄷ', 'ㄴ', 'ㅣ', 'ㅅ', 'ㆍ', 'ㄱ', 'ㅈ', 'ㅇ', 'ㅂ']\n",
            "GEN: 71, AVG: 11938.321243773198, MIN: 11716.28630810884, BEST: ['ㅡ', 'ㄷ', 'ㄴ', 'ㅣ', 'ㅅ', 'ㆍ', 'ㄱ', 'ㅈ', 'ㅇ', 'ㅂ']\n",
            "GEN: 72, AVG: 12012.666688706708, MIN: 11716.28630810884, BEST: ['ㅡ', 'ㄷ', 'ㄴ', 'ㅣ', 'ㅅ', 'ㆍ', 'ㄱ', 'ㅈ', 'ㅇ', 'ㅂ']\n",
            "GEN: 73, AVG: 11870.128290288325, MIN: 11716.28630810884, BEST: ['ㅡ', 'ㄷ', 'ㄴ', 'ㅣ', 'ㅅ', 'ㆍ', 'ㄱ', 'ㅈ', 'ㅇ', 'ㅂ']\n",
            "GEN: 74, AVG: 11999.566030145956, MIN: 11716.28630810884, BEST: ['ㅡ', 'ㄷ', 'ㄴ', 'ㅣ', 'ㅅ', 'ㆍ', 'ㄱ', 'ㅈ', 'ㅇ', 'ㅂ']\n",
            "GEN: 75, AVG: 11960.16206415858, MIN: 11716.28630810884, BEST: ['ㅡ', 'ㄷ', 'ㄴ', 'ㅣ', 'ㅅ', 'ㆍ', 'ㄱ', 'ㅈ', 'ㅇ', 'ㅂ']\n",
            "GEN: 76, AVG: 11814.35494558859, MIN: 11716.28630810884, BEST: ['ㅡ', 'ㄷ', 'ㄴ', 'ㅣ', 'ㅅ', 'ㆍ', 'ㄱ', 'ㅈ', 'ㅇ', 'ㅂ']\n",
            "GEN: 77, AVG: 11947.353203311228, MIN: 11716.28630810884, BEST: ['ㅡ', 'ㄷ', 'ㄴ', 'ㅣ', 'ㅅ', 'ㆍ', 'ㄱ', 'ㅈ', 'ㅇ', 'ㅂ']\n",
            "GEN: 78, AVG: 11959.978905773623, MIN: 11716.28630810884, BEST: ['ㅡ', 'ㄷ', 'ㄴ', 'ㅣ', 'ㅅ', 'ㆍ', 'ㄱ', 'ㅈ', 'ㅇ', 'ㅂ']\n",
            "GEN: 79, AVG: 11951.937732987777, MIN: 11716.28630810884, BEST: ['ㅡ', 'ㄷ', 'ㄴ', 'ㅣ', 'ㅅ', 'ㆍ', 'ㄱ', 'ㅈ', 'ㅇ', 'ㅂ']\n",
            "GEN: 80, AVG: 11823.477651242549, MIN: 11716.28630810884, BEST: ['ㅡ', 'ㄷ', 'ㄴ', 'ㅣ', 'ㅅ', 'ㆍ', 'ㄱ', 'ㅈ', 'ㅇ', 'ㅂ']\n",
            "GEN: 81, AVG: 11824.286215665135, MIN: 11716.28630810884, BEST: ['ㅡ', 'ㄷ', 'ㄴ', 'ㅣ', 'ㅅ', 'ㆍ', 'ㄱ', 'ㅈ', 'ㅇ', 'ㅂ']\n",
            "GEN: 82, AVG: 11748.025836570872, MIN: 11716.28630810884, BEST: ['ㅡ', 'ㄷ', 'ㄴ', 'ㅣ', 'ㅅ', 'ㆍ', 'ㄱ', 'ㅈ', 'ㅇ', 'ㅂ']\n",
            "GEN: 83, AVG: 11878.448703843027, MIN: 11716.28630810884, BEST: ['ㅡ', 'ㄷ', 'ㄴ', 'ㅣ', 'ㅅ', 'ㆍ', 'ㄱ', 'ㅈ', 'ㅇ', 'ㅂ']\n",
            "GEN: 84, AVG: 11814.554014130095, MIN: 11716.28630810884, BEST: ['ㅡ', 'ㄷ', 'ㄴ', 'ㅣ', 'ㅅ', 'ㆍ', 'ㄱ', 'ㅈ', 'ㅇ', 'ㅂ']\n",
            "GEN: 85, AVG: 11966.333213631564, MIN: 11716.28630810884, BEST: ['ㅡ', 'ㄷ', 'ㄴ', 'ㅣ', 'ㅅ', 'ㆍ', 'ㄱ', 'ㅈ', 'ㅇ', 'ㅂ']\n",
            "GEN: 86, AVG: 11935.934154872926, MIN: 11716.28630810884, BEST: ['ㅡ', 'ㄷ', 'ㄴ', 'ㅣ', 'ㅅ', 'ㆍ', 'ㄱ', 'ㅈ', 'ㅇ', 'ㅂ']\n",
            "GEN: 87, AVG: 12071.18650164117, MIN: 11716.28630810884, BEST: ['ㅡ', 'ㄷ', 'ㄴ', 'ㅣ', 'ㅅ', 'ㆍ', 'ㄱ', 'ㅈ', 'ㅇ', 'ㅂ']\n",
            "GEN: 88, AVG: 12098.855851384604, MIN: 11716.28630810884, BEST: ['ㅡ', 'ㄷ', 'ㄴ', 'ㅣ', 'ㅅ', 'ㆍ', 'ㄱ', 'ㅈ', 'ㅇ', 'ㅂ']\n",
            "GEN: 89, AVG: 11956.579432506747, MIN: 11716.28630810884, BEST: ['ㅡ', 'ㄷ', 'ㄴ', 'ㅣ', 'ㅅ', 'ㆍ', 'ㄱ', 'ㅈ', 'ㅇ', 'ㅂ']\n",
            "GEN: 90, AVG: 12107.703777744162, MIN: 11716.28630810884, BEST: ['ㅡ', 'ㄷ', 'ㄴ', 'ㅣ', 'ㅅ', 'ㆍ', 'ㄱ', 'ㅈ', 'ㅇ', 'ㅂ']\n",
            "GEN: 91, AVG: 11800.578466582816, MIN: 11716.28630810884, BEST: ['ㅡ', 'ㄷ', 'ㄴ', 'ㅣ', 'ㅅ', 'ㆍ', 'ㄱ', 'ㅈ', 'ㅇ', 'ㅂ']\n",
            "GEN: 92, AVG: 11805.940683409095, MIN: 11716.28630810884, BEST: ['ㅡ', 'ㄷ', 'ㄴ', 'ㅣ', 'ㅅ', 'ㆍ', 'ㄱ', 'ㅈ', 'ㅇ', 'ㅂ']\n",
            "GEN: 93, AVG: 11834.524231341902, MIN: 11716.28630810884, BEST: ['ㅡ', 'ㄷ', 'ㄴ', 'ㅣ', 'ㅅ', 'ㆍ', 'ㄱ', 'ㅈ', 'ㅇ', 'ㅂ']\n",
            "GEN: 94, AVG: 11833.185690729008, MIN: 11716.28630810884, BEST: ['ㅡ', 'ㄷ', 'ㄴ', 'ㅣ', 'ㅅ', 'ㆍ', 'ㄱ', 'ㅈ', 'ㅇ', 'ㅂ']\n",
            "GEN: 95, AVG: 12047.197312552049, MIN: 11716.28630810884, BEST: ['ㅡ', 'ㄷ', 'ㄴ', 'ㅣ', 'ㅅ', 'ㆍ', 'ㄱ', 'ㅈ', 'ㅇ', 'ㅂ']\n",
            "GEN: 96, AVG: 11987.437373599918, MIN: 11716.28630810884, BEST: ['ㅡ', 'ㄷ', 'ㄴ', 'ㅣ', 'ㅅ', 'ㆍ', 'ㄱ', 'ㅈ', 'ㅇ', 'ㅂ']\n",
            "GEN: 97, AVG: 12055.650275408745, MIN: 11716.28630810884, BEST: ['ㅡ', 'ㄷ', 'ㄴ', 'ㅣ', 'ㅅ', 'ㆍ', 'ㄱ', 'ㅈ', 'ㅇ', 'ㅂ']\n",
            "GEN: 98, AVG: 11865.483211092762, MIN: 11716.28630810884, BEST: ['ㅡ', 'ㄷ', 'ㄴ', 'ㅣ', 'ㅅ', 'ㆍ', 'ㄱ', 'ㅈ', 'ㅇ', 'ㅂ']\n",
            "GEN: 99, AVG: 11881.37112590134, MIN: 11716.28630810884, BEST: ['ㅡ', 'ㄷ', 'ㄴ', 'ㅣ', 'ㅅ', 'ㆍ', 'ㄱ', 'ㅈ', 'ㅇ', 'ㅂ']\n",
            "GEN: 100, AVG: 11989.625265347355, MIN: 11716.28630810884, BEST: ['ㅡ', 'ㄷ', 'ㄴ', 'ㅣ', 'ㅅ', 'ㆍ', 'ㄱ', 'ㅈ', 'ㅇ', 'ㅂ']\n"
          ]
        }
      ],
      "source": [
        "P_SIZE = 100\n",
        "GENERATIONS = 100\n",
        "MUTATION_RATE = .1\n",
        "\n",
        "learning = {\n",
        "    'generations': {}\n",
        "}\n",
        "\n",
        "population = init_population(P_SIZE)\n",
        "\n",
        "for i in range(GENERATIONS):    \n",
        "    evals, sorted_evals = get_evals(population)\n",
        "    sum_evals = 0\n",
        "\n",
        "    for key in evals:\n",
        "        sum_evals += evals[key]\n",
        "\n",
        "    avg_evals = sum_evals/P_SIZE\n",
        "    learning['generations'][i] = {\n",
        "        'population': population,\n",
        "        'best': population[sorted_evals[0]],\n",
        "        'min': evals[sorted_evals[0]],\n",
        "        'avg': avg_evals\n",
        "    }\n",
        "\n",
        "    print('GEN: {}, AVG: {}, MIN: {}, BEST: {}'.format(i+1, avg_evals, evals[sorted_evals[0]], population[sorted_evals[0]]))\n",
        "    \n",
        "    population = new_generation(population, sorted_evals, P_SIZE, MUTATION_RATE)\n",
        "\n",
        "with open('양손 최적화.json', 'w') as fp:\n",
        "    json.dump(learning, fp)"
      ]
    },
    {
      "cell_type": "code",
      "execution_count": null,
      "metadata": {
        "id": "cSRpr2ic60ax",
        "outputId": "fa05831d-ec96-42dc-d434-766e28154fa8"
      },
      "outputs": [
        {
          "data": {
            "image/png": "[encoded data removed]",
            "text/plain": [
              "<Figure size 2000x600 with 2 Axes>"
            ]
          },
          "metadata": {},
          "output_type": "display_data"
        }
      ],
      "source": [
        "with open('양손 최적화.json') as fp:\n",
        "    learning = json.load(fp)\n",
        "    \n",
        "last_dist = 1000000000\n",
        "min_dists = []\n",
        "avg_dists = []\n",
        "generations = len(learning['generations'])\n",
        "\n",
        "for i in range(0, generations):\n",
        "    min_dist = learning['generations'][str(i)]['min']\n",
        "    avg_dist = learning['generations'][str(i)]['avg']\n",
        "    min_dists.append(min_dist)\n",
        "    avg_dists.append(avg_dist)\n",
        "    \n",
        "fig, axes = plt.subplots(1, 2, figsize=(20, 6))\n",
        "\n",
        "axes[0].plot(min_dists, label='Lowest Distance')\n",
        "axes[0].set_xlabel('Generations')\n",
        "axes[0].set_ylabel('Distance')\n",
        "axes[0].set_title('Lowest Distance')\n",
        "\n",
        "axes[1].plot(avg_dists, label='Average Distance', color='orange')\n",
        "axes[1].set_xlabel('Generations')\n",
        "axes[1].set_ylabel('Distance')\n",
        "axes[1].set_title('Average Distance')\n",
        "\n",
        "plt.savefig('양손 최적화.png')"
      ]
    }
  ],
  "metadata": {
    "kernelspec": {
      "display_name": "Python 3",
      "language": "python",
      "name": "python3"
    },
    "language_info": {
      "codemirror_mode": {
        "name": "ipython",
        "version": 3
      },
      "file_extension": ".py",
      "mimetype": "text/x-python",
      "name": "python",
      "nbconvert_exporter": "python",
      "pygments_lexer": "ipython3",
      "version": "3.10.10"
    },
    "orig_nbformat": 4,
    "colab": {
      "provenance": []
    }
  },
  "nbformat": 4,
  "nbformat_minor": 0
}